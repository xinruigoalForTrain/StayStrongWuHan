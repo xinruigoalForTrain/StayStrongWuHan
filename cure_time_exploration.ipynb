{
 "cells": [
  {
   "cell_type": "markdown",
   "metadata": {},
   "source": [
    "<div style=\"background-color:black;color:white;font-size:25px;font-weight:bold;\">\n",
    "    <p style='line-height:39px;margin:14px;'>1.爬取【公众号：上海发布】治愈出院病例详情文章，记录单个病例确诊到出院的详情，\n",
    "    存入文件</p>\n",
    "    <p style='line-height:39px;margin:14px;'>2.整理数据，得到可分析样本</span><br/>\n",
    "    <p style='line-height:39px;margin:14px;'>3.分析患者治愈周期及趋势</span>\n",
    "</div>"
   ]
  },
  {
   "cell_type": "code",
   "execution_count": 1,
   "metadata": {},
   "outputs": [],
   "source": [
    "import re\n",
    "import requests\n",
    "import urllib\n",
    "from bs4 import BeautifulSoup as bs\n",
    "\n",
    "from dateutil import parser as dateparse\n",
    "from dateutil import rrule as rrule\n",
    "\n",
    "from datetime import*\n",
    "import time     #一定要写在datetime后面\n",
    "\n",
    "import json\n",
    "from selenium import webdriver\n",
    "\n",
    "import numpy as np\n",
    "import pandas as pd\n",
    "from matplotlib import pyplot as plt"
   ]
  },
  {
   "cell_type": "markdown",
   "metadata": {},
   "source": [
    "### 爬取数据"
   ]
  },
  {
   "cell_type": "markdown",
   "metadata": {},
   "source": [
    "\"\"\"\n",
    "爬取可能会出现：{\"err_msg\":\"freq control\",\"ret\":200013},需要间隔一天以后再爬（尚没有找到解决办法）\n",
    "\"\"\""
   ]
  },
  {
   "cell_type": "code",
   "execution_count": 2,
   "metadata": {},
   "outputs": [],
   "source": [
    "earlist_cure_date = dateparse.parse('2020-01-27')"
   ]
  },
  {
   "cell_type": "markdown",
   "metadata": {},
   "source": [
    "#### 爬取文章列表"
   ]
  },
  {
   "cell_type": "code",
   "execution_count": 6,
   "metadata": {},
   "outputs": [],
   "source": [
    "headers_for_list = {\n",
    "             \"Accept\":\"*/*\",\n",
    "             \"Accept-Encoding\":\"gzip, deflate, br\",\n",
    "             \"Accept-Language\":\"zh-CN,zh;q=0.8,zh-TW;q=0.7,zh-HK;q=0.5,en-US;q=0.3,en;q=0.2\",\n",
    "             \"Connection\":\"keep-alive\",\n",
    "             \"Cookie\":\"noticeLoginFlag=1; remember_acct=XinRuiGOAL_445; ua_id=kdwFycaP525HQR2pAAAAAH6MrnW80TdqywwUOKiaiSU=; pgv_pvi=1852565504; pgv_pvid=5970675800; pac_uid=0_5d8ddbbbd67a8; tvfe_boss_uuid=2f521cf4e0173472; xid=e6d4b59648bc3efe1494f3bbde6a83b5; mm_lang=zh_CN; wxuin=76737050911159; XWINDEXGREY=0; mobileUV=1_16fed07c7d1_b664e; pgv_info=ssid=s3833722896; pgv_si=s3150308352; uuid=46cbb1ed31eca1419d3dfae289ed6b2a; ticket=e8143adf9a8ef7620dda4617dd401b7ea56619fe; ticket_id=gh_b759a638f7db; cert=uYuAwmqDNzfbF2fQW0oh67Ns08twZARG; rewardsn=; wxtokenkey=777; noticeLoginFlag=1; remember_acct=XinRuiGOAL_445; openid2ticket_oedJlt1wKXdcZTPtAgjdmhg3n1SM=fwpqGwk6K1VssHOrulO5fZfUZ0DBTE91vvPiptTMbyc=; bizuin=3070900654; rand_info=CAESIIIFu84ysAVudPkdUOaIWZVJtyDjWHQio8kK+w68yyou; slave_bizuin=3070900654; data_bizuin=3076903545; data_ticket=8gSvGAyY5YA+5N4aqTfhY52dAyhayksNuhkryVk0hnNa9AUyGyYbcYiuZLFmvA0U; slave_sid=aDJEV1FmTzViU05Ld0VXR3A0SjdXMVFKc25rREVpQ05kMVJoMEFDZW9pRUNjQkMzUmlYSHJHMW5rU2wxTXdRSXE0SmVLT3RlMGUyelFuSUs1ek9DTjhCM1JpSjMzY2RMeVZmVkthMkRMNjFFYk91azdES0c1S0R4dGNTRW9oU0NuMlhpTWFVejZLOUd1Z21N; slave_user=gh_b759a638f7db\",\n",
    "             \"Host\":\"mp.weixin.qq.com\",\n",
    "             \"Referer\":\"https://mp.weixin.qq.com/cgi-bin/appmsg?t=media/appmsg_edit&action=edit&type=10&isMul=1&isNew=1&share=1&lang=zh_CN&token=1322400924&token=1322400924&lang=zh_CN\",\n",
    "             \"User-Agent\":\"Mozilla/5.0 (Windows NT 10.0; Win64; x64; rv:69.0) Gecko/20100101 Firefox/69.0\",\n",
    "             \"X-Requested-With\":\"XMLHttpRequest\"\n",
    "            }"
   ]
  },
  {
   "cell_type": "code",
   "execution_count": 7,
   "metadata": {},
   "outputs": [],
   "source": [
    "request_data_for_list = {\n",
    "                    'action':'list_ex',\n",
    "                    'begin':0,\n",
    "                    'count':5,\n",
    "                    'fakeid':'MjM5NTA5NzYyMA==',     #公众号fakeId\n",
    "                    'type':9,\n",
    "                    'query':'痊愈出院',\n",
    "                    'token':'823584831',     #这个会过期(cookie也要换)\n",
    "                    'lang':'zh_CN',\n",
    "                    'f':'json',\n",
    "                    'ajax':1\n",
    "                }"
   ]
  },
  {
   "cell_type": "code",
   "execution_count": 8,
   "metadata": {},
   "outputs": [
    {
     "name": "stdout",
     "output_type": "stream",
     "text": [
      "size of articles:5\n",
      "http://mp.weixin.qq.com/s?__biz=MjM5NTA5NzYyMA==&mid=2654127608&idx=2&sn=92b5dd6082584d2892f0512854b2b5fa&chksm=bd3bd8838a4c5195c1154cb636f1e5ac1fb78d77eefd2906a8bcef358eb6540a5f7380f1b27b#rd\n",
      "http://mp.weixin.qq.com/s?__biz=MjM5NTA5NzYyMA==&mid=2654127413&idx=1&sn=1cf324915536aba1cb50d3f1c4a8c8e4&chksm=bd3bd84e8a4c5158014289008858e25dcf1a7e266e4e73b29bea16ac2842e7d2a5e654a495a9#rd\n",
      "http://mp.weixin.qq.com/s?__biz=MjM5NTA5NzYyMA==&mid=2654127254&idx=1&sn=8cfcea58474ad7c7176e5875e24b2d23&chksm=bd3bd9ed8a4c50fb2a84e93e9006444e3b9dfda7b5a62308e5b90e7b46110c758565ce595d31#rd\n",
      "http://mp.weixin.qq.com/s?__biz=MjM5NTA5NzYyMA==&mid=2654127090&idx=2&sn=5cb093268eef7cfc558b66d896ad1c49&chksm=bd3bde898a4c579f426b9574e2e8454e04f22b7bfec6efcca66ca8924875cda5b8248bf67d01#rd\n",
      "http://mp.weixin.qq.com/s?__biz=MjM5NTA5NzYyMA==&mid=2654126978&idx=1&sn=4f53983042c79e81aac248eb59b14bb6&chksm=bd3bdef98a4c57ef9975475adb009f8775a35b5a38c6af6fd1f675b40a86ba590cf4a32c86e7#rd\n",
      "size of articles:5\n",
      "http://mp.weixin.qq.com/s?__biz=MjM5NTA5NzYyMA==&mid=2654126777&idx=1&sn=9238a1f2b79f465aba44d3eebc19d9e5&chksm=bd3bdfc28a4c56d45705b9f31776a45c3764e5eeaf3b10d61a1abfb264dc46ec3ab80fa4a021#rd\n",
      "http://mp.weixin.qq.com/s?__biz=MjM5NTA5NzYyMA==&mid=2654126632&idx=1&sn=be56c432fe9014a07660a44009cdc784&chksm=bd3bdf538a4c564521b3c57fbee0af6202513a6d43a4e13fb6ff6d0a6d36265d5a480123ef4d#rd\n",
      "http://mp.weixin.qq.com/s?__biz=MjM5NTA5NzYyMA==&mid=2654126528&idx=1&sn=feab7c020849991ba6dd65793d1a5219&chksm=bd3bdcbb8a4c55ad4bf687006e640c94fbfb12d604cfbfc000fd07f213f8e0f35cf118d12b0b#rd\n",
      "http://mp.weixin.qq.com/s?__biz=MjM5NTA5NzYyMA==&mid=2654126416&idx=2&sn=ddb92ff740c0ae67a45d555e47904eed&chksm=bd3bdc2b8a4c553d990058742a1f14971f603fb9465ad6f13059cfa60337a30f9fb03c730598#rd\n",
      "http://mp.weixin.qq.com/s?__biz=MjM5NTA5NzYyMA==&mid=2654126329&idx=2&sn=068aee7a5aab4cf7c9f7f19933195665&chksm=bd3bdd828a4c5494cb7cb9dff4bb84aa5f6d9374e996d2e10386259dbe3d330eb9b2a3ba5661#rd\n",
      "size of articles:5\n",
      "http://mp.weixin.qq.com/s?__biz=MjM5NTA5NzYyMA==&mid=2654126173&idx=1&sn=fa1609c1cf2286322d33dff17834d38d&chksm=bd3bdd268a4c5430bb4c1554bba35a8b1423bd4a71f7313861ea0dca6f46e0092580f4f91a5c#rd\n",
      "http://mp.weixin.qq.com/s?__biz=MjM5NTA5NzYyMA==&mid=2654126065&idx=1&sn=fe825d4bd5dbe3e4df42281ef314afed&chksm=bd3ba28a8a4c2b9cc7bde31c66bf5e8d5d6d699dacfe0a5278595d2ecafdf995ed2da339dbe0#rd\n",
      "http://mp.weixin.qq.com/s?__biz=MjM5NTA5NzYyMA==&mid=2654125832&idx=1&sn=562591fbc4c93649dc0e557cd1374559&chksm=bd3ba2738a4c2b65946a5bd0721a8d3aa05454d640850f1a232e13a90713416ec1f12a6c5412#rd\n",
      "http://mp.weixin.qq.com/s?__biz=MjM5NTA5NzYyMA==&mid=2654125647&idx=2&sn=2c0b95cef094b8b72e3294f6334db23e&chksm=bd3ba3348a4c2a22cfd82f933e8c23c3e1c18d5e710a2a72d53cbf7f9d2e67122c9f378e4211#rd\n",
      "http://mp.weixin.qq.com/s?__biz=MjM5NTA5NzYyMA==&mid=2654125511&idx=1&sn=54b3b4334903032154543ea6e22a7b71&chksm=bd3ba0bc8a4c29aaac9d358b259d38bb125309789956c626b1cb72b8e7bb6bcc2f86f9937856#rd\n",
      "size of articles:5\n",
      "http://mp.weixin.qq.com/s?__biz=MjM5NTA5NzYyMA==&mid=2654125379&idx=1&sn=a134c1aaa746c99ce6c73933b26e7a92&chksm=bd3ba0388a4c292ed15f39aabdf7b7f352964c863d61a0cd36b512917aa669de3effc0090fce#rd\n",
      "http://mp.weixin.qq.com/s?__biz=MjM5NTA5NzYyMA==&mid=2654125284&idx=1&sn=edb30291f5215072e03f855c41a3da78&chksm=bd3ba19f8a4c28897f7a56783b812137686919f27d68c987989d4a471fc168ddb74a679b2654#rd\n",
      "http://mp.weixin.qq.com/s?__biz=MjM5NTA5NzYyMA==&mid=2654125166&idx=1&sn=7bc19f85c5768aa604d9c3663e1df1ff&chksm=bd3ba1158a4c2803717e54ef5f2cee581397a34b77675a786622aec95fcc55b7c7fadbd35c89#rd\n",
      "http://mp.weixin.qq.com/s?__biz=MjM5NTA5NzYyMA==&mid=2654125007&idx=1&sn=68b6107487f403bb5fea256be2f8bc0a&chksm=bd3ba6b48a4c2fa2ae79a005597fb5366779cf291c09a12b3118975b07ba8d490bf8ce7412bd#rd\n",
      "http://mp.weixin.qq.com/s?__biz=MjM5NTA5NzYyMA==&mid=2654124833&idx=1&sn=61bf44c765bc20d49b04c29b18d8046c&chksm=bd3ba65a8a4c2f4c76801e07587d3f924a63fef0670e0797fcc464cbeac378136738a526aced#rd\n",
      "size of articles:5\n",
      "http://mp.weixin.qq.com/s?__biz=MjM5NTA5NzYyMA==&mid=2654124599&idx=2&sn=1312043cef93eebf21a01246358df468&chksm=bd3ba74c8a4c2e5a6e9097b5b89f93ad3ac413b9b21f414e3a42c6f9a07a15ac2c6192f7cdae#rd\n",
      "http://mp.weixin.qq.com/s?__biz=MjM5NTA5NzYyMA==&mid=2654124447&idx=1&sn=a183173fbbfc73c7c6e3b1f09a6c344e&chksm=bd3ba4e48a4c2df2b67659475457d36a4f06cd498245b8315583b19ee6dc8509775b9cdb5f22#rd\n",
      "http://mp.weixin.qq.com/s?__biz=MjM5NTA5NzYyMA==&mid=2654124289&idx=1&sn=05e1ef1db3c0fdb1c374ae032a6ab54b&chksm=bd3ba47a8a4c2d6cbdb74f02dd743baf4bc3ad9af1c6c94877095e408ed7c4b64d53671498df#rd\n",
      "http://mp.weixin.qq.com/s?__biz=MjM5NTA5NzYyMA==&mid=2654124139&idx=1&sn=1c3a071284012c039ca48bfc2b7d4955&chksm=bd3ba5108a4c2c06b65d33699e31c8c8353a41a3418c14a34a69ef12abc4c1af6aaf98745acf#rd\n",
      "http://mp.weixin.qq.com/s?__biz=MjM5NTA5NzYyMA==&mid=2654124054&idx=1&sn=47b16404cfaa521c58c39f84312ea223&chksm=bd3ba56d8a4c2c7b390eb846f55e273574f78268d97d2913e96a24d175d95f33043e56ed8f47#rd\n",
      "size of articles:5\n",
      "http://mp.weixin.qq.com/s?__biz=MjM5NTA5NzYyMA==&mid=2654123940&idx=1&sn=1b4ad8bad4184bb259c38bdde4795524&chksm=bd3baadf8a4c23c96f2a89a7384cbc5cc5b11471bba9a1c2b75cc864a262e1f93c8b1891a5a3#rd\n",
      "http://mp.weixin.qq.com/s?__biz=MjM5NTA5NzYyMA==&mid=2654123809&idx=1&sn=e239ae2670ddaffea0b0601b7aac4255&chksm=bd3baa5a8a4c234c054f83d944764570fbad42be6ee843a3a62a3198d102c261851cb13201de#rd\n",
      "http://mp.weixin.qq.com/s?__biz=MjM5NTA5NzYyMA==&mid=2654123677&idx=2&sn=df3b8f4fd18dfc9417b0b161eb74f353&chksm=bd3babe68a4c22f070f1bdd6cad05a7766a8d48a399489f82c1fb053faf7b91c370172822553#rd\n",
      "http://mp.weixin.qq.com/s?__biz=MjM5NTA5NzYyMA==&mid=2654123574&idx=1&sn=c7eb9a9324c434aa873b6a54e727bab3&chksm=bd3bab4d8a4c225b84aa6839a26d5efda22edca8700f64240541a7073a70c2e4191aa4fec4ae#rd\n",
      "http://mp.weixin.qq.com/s?__biz=MjM5NTA5NzYyMA==&mid=2654123533&idx=2&sn=5a1dc8d283f577ce3a229a14b79e827c&chksm=bd3bab768a4c2260f4b49392d361abbb24a4ad844ff4745bc817dc3feb24dfc2dfcdc624ecd1#rd\n",
      "size of articles:5\n",
      "http://mp.weixin.qq.com/s?__biz=MjM5NTA5NzYyMA==&mid=2654123467&idx=3&sn=e6b5d7aa9dc3fadc6f5aea24de40d850&chksm=bd3ba8b08a4c21a66d334c54be0d0cf5e5fcf480896d4cf7003eafcdcf47d5ed3696b369e89b#rd\n",
      "http://mp.weixin.qq.com/s?__biz=MjM5NTA5NzYyMA==&mid=2654123352&idx=2&sn=4d602d755640d41fae052067fcc3cece&chksm=bd3ba8238a4c2135cb7fa8d0452b7feea80ce62a4cb9467879eb093d6bc3fed966d22909fc4f#rd\n",
      "http://mp.weixin.qq.com/s?__biz=MjM5NTA5NzYyMA==&mid=2654123233&idx=1&sn=4e6c72b36a1379f85b996d00778cd36d&chksm=bd3ba99a8a4c208c7030e391d913e9e0069ab077278106d8ad15e43c73f0b478c3be7f23adad#rd\n",
      "http://mp.weixin.qq.com/s?__biz=MjM5NTA5NzYyMA==&mid=2654123120&idx=1&sn=2597a410f078c3bfcdec43185e2fb901&chksm=bd3ba90b8a4c201d2215e59dcc5fd5a5f06856011dab13aaf492477d9069ebba5892afc65632#rd\n",
      "http://mp.weixin.qq.com/s?__biz=MjM5NTA5NzYyMA==&mid=2654122959&idx=2&sn=0b6b699922d86c0e59f878cc8ce4efec&chksm=bd3baeb48a4c27a2c76bafbe1a599827984ddd59267fec9a90a70617776716ce298f23d5a484#rd\n",
      "size of articles:5\n",
      "http://mp.weixin.qq.com/s?__biz=MjM5NTA5NzYyMA==&mid=2654122862&idx=1&sn=44e8423794cfac290f5c053c3674f84a&chksm=bd3bae158a4c2703b56082588555a864faf795c480a77c89c6c9885a8fa91206ad4bf77af0c0#rd\n",
      "http://mp.weixin.qq.com/s?__biz=MjM5NTA5NzYyMA==&mid=2654122752&idx=1&sn=b19c712f7b0677dac65d2f46d1ed4a8e&chksm=bd3bae7b8a4c276d4e40e039968eb80ebc81fce853d129a47ff10815f8c979ba885c2f6f5af2#rd\n",
      "http://mp.weixin.qq.com/s?__biz=MjM5NTA5NzYyMA==&mid=2654122588&idx=1&sn=f0f0f54c98dc61f36fc2672b850069a9&chksm=bd3baf278a4c26313b9e6fe1544a6ff5e38a50da47cf306be037388f237829f3dbe9131e1cf4#rd\n",
      "http://mp.weixin.qq.com/s?__biz=MjM5NTA5NzYyMA==&mid=2654122200&idx=1&sn=45329acf4079a5ba391aaf4d86455db0&chksm=bd3bada38a4c24b516138af781250d6dae4d1b4cd5dd4193a1527540d44343c9ca4890416ef7#rd\n",
      "http://mp.weixin.qq.com/s?__biz=MjM5NTA5NzYyMA==&mid=2654122097&idx=1&sn=1e08183d9f4c0e420157de52e8f0ee11&chksm=bd3bad0a8a4c241c57eddbea51bc7ae9b49d7d9e0d7fd1f345955833465cf074dbb052a38411#rd\n",
      "size of articles:5\n",
      "http://mp.weixin.qq.com/s?__biz=MjM5NTA5NzYyMA==&mid=2654121840&idx=1&sn=a2630dd799478fa50ba03c10b15b577d&chksm=bd3bb20b8a4c3b1dcfb25863490b21417e44222c076f3fefa2d319fb8d968c94fbb680e5c7d6#rd\n",
      "http://mp.weixin.qq.com/s?__biz=MjM5NTA5NzYyMA==&mid=2654121688&idx=1&sn=e4fdae2a034ee3a7b92b366b44d6aea7&chksm=bd3bb3a38a4c3ab58d8ddd78c4f4b0b2cc9a0ca4c14d677b7ce68299bced943492666a4cb096#rd\n",
      "http://mp.weixin.qq.com/s?__biz=MjM5NTA5NzYyMA==&mid=2654121593&idx=1&sn=f4e85d9a254eecf440bcdbdc6d35ffb2&chksm=bd3bb3028a4c3a146867a5b3a8d4ff1e061fb438e3281c428cdff828efb7d18751b12700bc6e#rd\n",
      "总链接数：43\n"
     ]
    }
   ],
   "source": [
    "articleLink_list = []     #存放所有有用的文章链接\n",
    "real_cure_date_list = []     #保存治愈时间，与文章链接同index\n",
    "all_article_link_get = False\n",
    "\n",
    "url_for_articleList = 'https://mp.weixin.qq.com/cgi-bin/appmsg'\n",
    "while (all_article_link_get == False):\n",
    "    response_articleList = requests.get(url_for_articleList,params=request_data_for_list,headers=headers_for_list)\n",
    "    #print(f\"第{int(request_data_for_list['begin']/5)+1}页\")\n",
    "    #print(f\"返回状态：{response_articleList.status_code}\")\n",
    "    #response_articleList.encoding     #utf-8\n",
    "    articleList_page_text = response_articleList.text\n",
    "    articleList_page_model = bs(articleList_page_text,'lxml')\n",
    "    articleList_json = json.loads(articleList_page_model.find(\"p\").text)     #返回的不是html，而是json串，如此处理甚是奇葩\n",
    "    article_list_info = articleList_json['app_msg_list']\n",
    "    print(f\"size of articles:{len(article_list_info)}\")\n",
    "    for article_info in article_list_info:\n",
    "        article_time = datetime.fromtimestamp(article_info['create_time'])\n",
    "        if article_time < earlist_cure_date:\n",
    "            all_article_link_get = True\n",
    "            break\n",
    "        article_link = article_info['link']\n",
    "        real_cure_date = article_time.strftime('%Y-%m-%d')\n",
    "        articleLink_list.append(article_link)\n",
    "        real_cure_date_list.append(real_cure_date)\n",
    "        print(article_link)\n",
    "    request_data_for_list['begin'] = request_data_for_list['begin'] + 5\n",
    "print(f\"总链接数：{len(articleLink_list)}\")\n",
    "    #page_model\n",
    "    #li = page_model.find_all(class_='weui-desktop-vm_default')\n",
    "    #li"
   ]
  },
  {
   "cell_type": "markdown",
   "metadata": {},
   "source": [
    "#### 爬取文章详情并解析，合成所需数据"
   ]
  },
  {
   "cell_type": "code",
   "execution_count": 9,
   "metadata": {},
   "outputs": [],
   "source": [
    "header_for_detail = {\n",
    "                        'Accept': 'text/html,application/xhtml+xml,application/xml;q=0.9,image/webp,image/apng,*/*;q=0.8,application/signed-exchange;v=b3',\n",
    "                        'Accept-Encoding': 'gzip, deflate, br',\n",
    "                        'Accept-Language': 'zh-CN,zh;q=0.9',\n",
    "                        'Cache-Control': 'max-age=0',\n",
    "                        'Connection': 'keep-alive',\n",
    "                        'Cookie': 'LW_uid=y1F5a7H4V2M3g5p4s10850p2Z6; eas_sid=91x5173472D3B5T4F1S8J0z4J0; pgv_pvi=7368888320; pgv_pvid=2317645400; pac_uid=0_5dd4fcb0c4bed; tvfe_boss_uuid=70f723d6e0be5c83; LW_sid=L185r744R9a9Q6Z355f5d7J8q0; wxuin=76739633599257; sd_userid=84941581685703780; sd_cookie_crttime=1581685703780; pgv_info=ssid=s7546132330; rewardsn=; wxtokenkey=777',\n",
    "                        'Host': 'mp.weixin.qq.com',\n",
    "                        'If-Modified-Since': 'Mon, 2 Mar 2020 13:22:34 +0800',\n",
    "                        'Referer': 'http://localhost:8888/notebooks/cure_time_exploration.ipynb',\n",
    "                        'Sec-Fetch-Mode': 'navigate',\n",
    "                        'Sec-Fetch-Site': 'cross-site',\n",
    "                        'Sec-Fetch-User': '?1',\n",
    "                        'Upgrade-Insecure-Requests': '1',\n",
    "                        'User-Agent': 'Mozilla/5.0 (Windows NT 10.0; Win64; x64) AppleWebKit/537.36 (KHTML, like Gecko) Chrome/78.0.3904.108 Safari/537.36'\n",
    "}"
   ]
  },
  {
   "cell_type": "code",
   "execution_count": 10,
   "metadata": {},
   "outputs": [],
   "source": [
    "request_data_for_detail = {\n",
    "                                '__biz': 'MjM5NTA5NzYyMA==',\n",
    "                                'mid': 2654125379,\n",
    "                                'idx': 1,\n",
    "                                'sn': 'a134c1aaa746c99ce6c73933b26e7a92',\n",
    "                                'chksm': 'bd3ba0388a4c292ed15f39aabdf7b7f352964c863d61a0cd36b512917aa669de3effc0090fce',\n",
    "                            }"
   ]
  },
  {
   "cell_type": "code",
   "execution_count": 11,
   "metadata": {},
   "outputs": [
    {
     "name": "stdout",
     "output_type": "stream",
     "text": [
      "治愈日期：2020-03-11\n",
      "出院病例集合：[0, '70', '男', datetime.datetime(2020, 2, 13, 0, 0), datetime.datetime(2020, 3, 11, 0, 0)]\n",
      "治愈日期：2020-03-10\n",
      "出院病例集合：[1, '20', '女', datetime.datetime(2020, 2, 14, 0, 0), datetime.datetime(2020, 3, 10, 0, 0)]\n",
      "出院病例集合：[2, '52', '女', datetime.datetime(2020, 2, 14, 0, 0), datetime.datetime(2020, 3, 10, 0, 0)]\n",
      "出院病例集合：[3, '37', '男', datetime.datetime(2020, 2, 10, 0, 0), datetime.datetime(2020, 3, 10, 0, 0)]\n",
      "出院病例集合：[4, '42', '男', datetime.datetime(2020, 2, 14, 0, 0), datetime.datetime(2020, 3, 10, 0, 0)]\n",
      "治愈日期：2020-03-09\n",
      "出院病例集合：[5, '2', '男', datetime.datetime(2020, 2, 25, 0, 0), datetime.datetime(2020, 3, 9, 0, 0)]\n",
      "治愈日期：2020-03-08\n",
      "出院病例集合：[6, '31', '女', datetime.datetime(2020, 2, 2, 0, 0), datetime.datetime(2020, 3, 8, 0, 0)]\n",
      "治愈日期：2020-03-07\n",
      "出院病例集合：[7, '32', '男', datetime.datetime(2020, 2, 8, 0, 0), datetime.datetime(2020, 3, 7, 0, 0)]\n",
      "出院病例集合：[8, '42', '男', datetime.datetime(2020, 2, 7, 0, 0), datetime.datetime(2020, 3, 7, 0, 0)]\n",
      "出院病例集合：[9, '38', '男', datetime.datetime(2020, 1, 30, 0, 0), datetime.datetime(2020, 3, 7, 0, 0)]\n",
      "出院病例集合：[10, '65', '男', datetime.datetime(2020, 2, 1, 0, 0), datetime.datetime(2020, 3, 7, 0, 0)]\n",
      "出院病例集合：[11, '58', '男', datetime.datetime(2020, 2, 4, 0, 0), datetime.datetime(2020, 3, 7, 0, 0)]\n",
      "出院病例集合：[12, '63', '女', datetime.datetime(2020, 2, 3, 0, 0), datetime.datetime(2020, 3, 7, 0, 0)]\n",
      "出院病例集合：[13, '4', '男', datetime.datetime(2020, 2, 7, 0, 0), datetime.datetime(2020, 3, 7, 0, 0)]\n",
      "治愈日期：2020-03-06\n",
      "出院病例集合：[14, '63', '男', datetime.datetime(2020, 1, 31, 0, 0), datetime.datetime(2020, 3, 6, 0, 0)]\n",
      "出院病例集合：[15, '50', '女', datetime.datetime(2020, 1, 29, 0, 0), datetime.datetime(2020, 3, 6, 0, 0)]\n",
      "出院病例集合：[16, '39', '男', datetime.datetime(2020, 2, 2, 0, 0), datetime.datetime(2020, 3, 6, 0, 0)]\n",
      "治愈日期：2020-03-05\n",
      "出院病例集合：[17, '32', '男', datetime.datetime(2020, 2, 4, 0, 0), datetime.datetime(2020, 3, 5, 0, 0)]\n",
      "出院病例集合：[18, '59', '男', datetime.datetime(2020, 2, 26, 0, 0), datetime.datetime(2020, 3, 5, 0, 0)]\n",
      "出院病例集合：[19, '67', '女', datetime.datetime(2020, 2, 12, 0, 0), datetime.datetime(2020, 3, 5, 0, 0)]\n",
      "出院病例集合：[20, '52', '男', datetime.datetime(2020, 2, 15, 0, 0), datetime.datetime(2020, 3, 5, 0, 0)]\n",
      "出院病例集合：[21, '80', '女', datetime.datetime(2020, 2, 8, 0, 0), datetime.datetime(2020, 3, 5, 0, 0)]\n",
      "治愈日期：2020-03-04\n",
      "出院病例集合：[22, '65', '男', datetime.datetime(2020, 2, 11, 0, 0), datetime.datetime(2020, 3, 4, 0, 0)]\n",
      "出院病例集合：[23, '65', '女', datetime.datetime(2020, 2, 10, 0, 0), datetime.datetime(2020, 3, 4, 0, 0)]\n",
      "出院病例集合：[24, '80', '男', datetime.datetime(2020, 1, 26, 0, 0), datetime.datetime(2020, 3, 4, 0, 0)]\n",
      "出院病例集合：[25, '70', '女', datetime.datetime(2020, 2, 4, 0, 0), datetime.datetime(2020, 3, 4, 0, 0)]\n",
      "治愈日期：2020-03-03\n",
      "出院病例集合：[26, '68', '女', datetime.datetime(2020, 2, 22, 0, 0), datetime.datetime(2020, 3, 3, 0, 0)]\n",
      "出院病例集合：[27, '26', '女', datetime.datetime(2020, 1, 29, 0, 0), datetime.datetime(2020, 3, 3, 0, 0)]\n",
      "治愈日期：2020-03-02\n",
      "出院病例集合：[28, '37', '男', datetime.datetime(2020, 2, 4, 0, 0), datetime.datetime(2020, 3, 2, 0, 0)]\n",
      "出院病例集合：[29, '35', '男', datetime.datetime(2020, 2, 15, 0, 0), datetime.datetime(2020, 3, 2, 0, 0)]\n",
      "治愈日期：2020-03-01\n",
      "出院病例集合：[30, '52', '女', datetime.datetime(2020, 2, 10, 0, 0), datetime.datetime(2020, 3, 1, 0, 0)]\n",
      "出院病例集合：[31, '59', '女', datetime.datetime(2020, 1, 30, 0, 0), datetime.datetime(2020, 3, 1, 0, 0)]\n",
      "出院病例集合：[32, '71', '女', datetime.datetime(2020, 2, 4, 0, 0), datetime.datetime(2020, 3, 1, 0, 0)]\n",
      "治愈日期：2020-02-29\n",
      "出院病例集合：[33, '67', '女', datetime.datetime(2020, 2, 14, 0, 0), datetime.datetime(2020, 2, 29, 0, 0)]\n",
      "出院病例集合：[34, '78', '男', datetime.datetime(2020, 2, 6, 0, 0), datetime.datetime(2020, 2, 29, 0, 0)]\n",
      "出院病例集合：[35, '67', '女', datetime.datetime(2020, 2, 11, 0, 0), datetime.datetime(2020, 2, 29, 0, 0)]\n",
      "出院病例集合：[36, '75', '男', datetime.datetime(2020, 2, 2, 0, 0), datetime.datetime(2020, 2, 29, 0, 0)]\n",
      "出院病例集合：[37, '30', '男', datetime.datetime(2020, 2, 12, 0, 0), datetime.datetime(2020, 2, 29, 0, 0)]\n",
      "出院病例集合：[38, '44', '男', datetime.datetime(2020, 2, 14, 0, 0), datetime.datetime(2020, 2, 29, 0, 0)]\n",
      "出院病例集合：[39, '24', '男', datetime.datetime(2020, 2, 1, 0, 0), datetime.datetime(2020, 2, 29, 0, 0)]\n",
      "出院病例集合：[40, '37', '男', datetime.datetime(2020, 2, 7, 0, 0), datetime.datetime(2020, 2, 29, 0, 0)]\n",
      "治愈日期：2020-02-28\n",
      "出院病例集合：[41, '64', '男', datetime.datetime(2020, 2, 2, 0, 0), datetime.datetime(2020, 2, 28, 0, 0)]\n",
      "出院病例集合：[42, '65', '女', datetime.datetime(2020, 2, 20, 0, 0), datetime.datetime(2020, 2, 28, 0, 0)]\n",
      "出院病例集合：[43, '5', '男', datetime.datetime(2020, 2, 13, 0, 0), datetime.datetime(2020, 2, 28, 0, 0)]\n",
      "治愈日期：2020-02-27\n",
      "出院病例集合：[44, '40', '男', datetime.datetime(2020, 2, 2, 0, 0), datetime.datetime(2020, 2, 27, 0, 0)]\n",
      "出院病例集合：[45, '27', '男', datetime.datetime(2020, 1, 28, 0, 0), datetime.datetime(2020, 2, 27, 0, 0)]\n",
      "出院病例集合：[46, '65', '男', datetime.datetime(2020, 1, 30, 0, 0), datetime.datetime(2020, 2, 27, 0, 0)]\n",
      "出院病例集合：[47, '38', '男', datetime.datetime(2020, 2, 17, 0, 0), datetime.datetime(2020, 2, 27, 0, 0)]\n",
      "治愈日期：2020-02-26\n",
      "出院病例集合：[48, '59', '女', datetime.datetime(2020, 2, 16, 0, 0), datetime.datetime(2020, 2, 26, 0, 0)]\n",
      "出院病例集合：[49, '64', '男', datetime.datetime(2020, 2, 4, 0, 0), datetime.datetime(2020, 2, 26, 0, 0)]\n",
      "出院病例集合：[50, '24', '男', datetime.datetime(2020, 2, 6, 0, 0), datetime.datetime(2020, 2, 26, 0, 0)]\n",
      "出院病例集合：[51, '67', '男', datetime.datetime(2020, 2, 8, 0, 0), datetime.datetime(2020, 2, 26, 0, 0)]\n",
      "治愈日期：2020-02-25\n",
      "出院病例集合：[52, '60', '女', datetime.datetime(2020, 2, 10, 0, 0), datetime.datetime(2020, 2, 25, 0, 0)]\n",
      "出院病例集合：[53, '38', '女', datetime.datetime(2020, 1, 28, 0, 0), datetime.datetime(2020, 2, 25, 0, 0)]\n",
      "出院病例集合：[54, '77', '女', datetime.datetime(2020, 1, 30, 0, 0), datetime.datetime(2020, 2, 25, 0, 0)]\n",
      "出院病例集合：[55, '66', '男', datetime.datetime(2020, 1, 30, 0, 0), datetime.datetime(2020, 2, 25, 0, 0)]\n",
      "出院病例集合：[56, '28', '女', datetime.datetime(2020, 2, 12, 0, 0), datetime.datetime(2020, 2, 25, 0, 0)]\n",
      "出院病例集合：[57, '30', '女', datetime.datetime(2020, 2, 14, 0, 0), datetime.datetime(2020, 2, 25, 0, 0)]\n",
      "出院病例集合：[58, '68', '男', datetime.datetime(2020, 1, 23, 0, 0), datetime.datetime(2020, 2, 25, 0, 0)]\n",
      "治愈日期：2020-02-24\n",
      "出院病例集合：[59, '58', '女', datetime.datetime(2020, 2, 9, 0, 0), datetime.datetime(2020, 2, 24, 0, 0)]\n",
      "出院病例集合：[60, '54', '女', datetime.datetime(2020, 1, 28, 0, 0), datetime.datetime(2020, 2, 24, 0, 0)]\n",
      "出院病例集合：[61, '26', '女', datetime.datetime(2020, 2, 17, 0, 0), datetime.datetime(2020, 2, 24, 0, 0)]\n",
      "出院病例集合：[62, '42', '女', datetime.datetime(2020, 1, 27, 0, 0), datetime.datetime(2020, 2, 24, 0, 0)]\n",
      "出院病例集合：[63, '52', '女', datetime.datetime(2020, 1, 29, 0, 0), datetime.datetime(2020, 2, 24, 0, 0)]\n",
      "出院病例集合：[64, '72', '男', datetime.datetime(2020, 2, 8, 0, 0), datetime.datetime(2020, 2, 24, 0, 0)]\n",
      "出院病例集合：[65, '68', '女', datetime.datetime(2020, 2, 11, 0, 0), datetime.datetime(2020, 2, 24, 0, 0)]\n",
      "出院病例集合：[66, '52', '女', datetime.datetime(2020, 1, 31, 0, 0), datetime.datetime(2020, 2, 24, 0, 0)]\n",
      "出院病例集合：[67, '71', '女', datetime.datetime(2020, 1, 30, 0, 0), datetime.datetime(2020, 2, 24, 0, 0)]\n",
      "出院病例集合：[68, '55', '男', datetime.datetime(2020, 1, 31, 0, 0), datetime.datetime(2020, 2, 24, 0, 0)]\n",
      "出院病例集合：[69, '48', '男', datetime.datetime(2020, 1, 27, 0, 0), datetime.datetime(2020, 2, 24, 0, 0)]\n",
      "出院病例集合：[70, '54', '男', datetime.datetime(2020, 1, 29, 0, 0), datetime.datetime(2020, 2, 24, 0, 0)]\n",
      "治愈日期：2020-02-23\n",
      "出院病例集合：[71, '64', '男', datetime.datetime(2020, 2, 8, 0, 0), datetime.datetime(2020, 2, 23, 0, 0)]\n",
      "出院病例集合：[72, '30', '男', datetime.datetime(2020, 1, 29, 0, 0), datetime.datetime(2020, 2, 23, 0, 0)]\n",
      "出院病例集合：[73, '58', '女', datetime.datetime(2020, 2, 11, 0, 0), datetime.datetime(2020, 2, 23, 0, 0)]\n",
      "出院病例集合：[74, '62', '女', datetime.datetime(2020, 1, 30, 0, 0), datetime.datetime(2020, 2, 23, 0, 0)]\n",
      "出院病例集合：[75, '38', '女', datetime.datetime(2020, 2, 9, 0, 0), datetime.datetime(2020, 2, 23, 0, 0)]\n",
      "出院病例集合：[76, '34', '女', datetime.datetime(2020, 2, 7, 0, 0), datetime.datetime(2020, 2, 23, 0, 0)]\n",
      "出院病例集合：[77, '71', '男', datetime.datetime(2020, 2, 2, 0, 0), datetime.datetime(2020, 2, 23, 0, 0)]\n",
      "出院病例集合：[78, '65', '女', datetime.datetime(2020, 1, 24, 0, 0), datetime.datetime(2020, 2, 23, 0, 0)]\n",
      "出院病例集合：[79, '30', '男', datetime.datetime(2020, 1, 24, 0, 0), datetime.datetime(2020, 2, 23, 0, 0)]\n",
      "出院病例集合：[80, '31', '男', datetime.datetime(2020, 2, 1, 0, 0), datetime.datetime(2020, 2, 23, 0, 0)]\n",
      "出院病例集合：[81, '23', '男', datetime.datetime(2020, 2, 3, 0, 0), datetime.datetime(2020, 2, 23, 0, 0)]\n",
      "出院病例集合：[82, '63', '男', datetime.datetime(2020, 2, 5, 0, 0), datetime.datetime(2020, 2, 23, 0, 0)]\n",
      "出院病例集合：[83, '58', '男', datetime.datetime(2020, 2, 16, 0, 0), datetime.datetime(2020, 2, 23, 0, 0)]\n",
      "出院病例集合：[84, '30', '男', datetime.datetime(2020, 2, 16, 0, 0), datetime.datetime(2020, 2, 23, 0, 0)]\n",
      "出院病例集合：[85, '66', '女', datetime.datetime(2020, 2, 10, 0, 0), datetime.datetime(2020, 2, 23, 0, 0)]\n",
      "出院病例集合：[86, '63', '女', datetime.datetime(2020, 2, 6, 0, 0), datetime.datetime(2020, 2, 23, 0, 0)]\n",
      "出院病例集合：[87, '30', '女', datetime.datetime(2020, 2, 4, 0, 0), datetime.datetime(2020, 2, 23, 0, 0)]\n",
      "出院病例集合：[88, '59', '男', datetime.datetime(2020, 2, 3, 0, 0), datetime.datetime(2020, 2, 23, 0, 0)]\n",
      "出院病例集合：[89, '35', '女', datetime.datetime(2020, 2, 4, 0, 0), datetime.datetime(2020, 2, 23, 0, 0)]\n",
      "出院病例集合：[90, '49', '女', datetime.datetime(2020, 2, 3, 0, 0), datetime.datetime(2020, 2, 23, 0, 0)]\n",
      "出院病例集合：[91, '45', '女', datetime.datetime(2020, 2, 3, 0, 0), datetime.datetime(2020, 2, 23, 0, 0)]\n",
      "出院病例集合：[92, '38', '女', datetime.datetime(2020, 2, 2, 0, 0), datetime.datetime(2020, 2, 23, 0, 0)]\n"
     ]
    },
    {
     "name": "stdout",
     "output_type": "stream",
     "text": [
      "治愈日期：2020-02-22\n",
      "出院病例集合：[93, '67', '女', datetime.datetime(2020, 2, 1, 0, 0), datetime.datetime(2020, 2, 22, 0, 0)]\n",
      "出院病例集合：[94, '63', '男', datetime.datetime(2020, 2, 13, 0, 0), datetime.datetime(2020, 2, 22, 0, 0)]\n",
      "出院病例集合：[95, '51', '女', datetime.datetime(2020, 1, 24, 0, 0), datetime.datetime(2020, 2, 22, 0, 0)]\n",
      "出院病例集合：[96, '76', '女', datetime.datetime(2020, 1, 25, 0, 0), datetime.datetime(2020, 2, 22, 0, 0)]\n",
      "出院病例集合：[97, '62', '女', datetime.datetime(2020, 1, 26, 0, 0), datetime.datetime(2020, 2, 22, 0, 0)]\n",
      "出院病例集合：[98, '37', '男', datetime.datetime(2020, 1, 30, 0, 0), datetime.datetime(2020, 2, 22, 0, 0)]\n",
      "出院病例集合：[99, '56', '男', datetime.datetime(2020, 1, 28, 0, 0), datetime.datetime(2020, 2, 22, 0, 0)]\n",
      "出院病例集合：[100, '27', '女', datetime.datetime(2020, 2, 4, 0, 0), datetime.datetime(2020, 2, 22, 0, 0)]\n",
      "出院病例集合：[101, '33', '男', datetime.datetime(2020, 2, 13, 0, 0), datetime.datetime(2020, 2, 22, 0, 0)]\n",
      "出院病例集合：[102, '33', '女', datetime.datetime(2020, 2, 12, 0, 0), datetime.datetime(2020, 2, 22, 0, 0)]\n",
      "出院病例集合：[103, '39', '男', datetime.datetime(2020, 2, 1, 0, 0), datetime.datetime(2020, 2, 22, 0, 0)]\n",
      "出院病例集合：[104, '44', '女', datetime.datetime(2020, 2, 3, 0, 0), datetime.datetime(2020, 2, 22, 0, 0)]\n",
      "出院病例集合：[105, '47', '女', datetime.datetime(2020, 2, 5, 0, 0), datetime.datetime(2020, 2, 22, 0, 0)]\n",
      "出院病例集合：[106, '52', '女', datetime.datetime(2020, 1, 29, 0, 0), datetime.datetime(2020, 2, 22, 0, 0)]\n",
      "出院病例集合：[107, '74', '男', datetime.datetime(2020, 2, 3, 0, 0), datetime.datetime(2020, 2, 22, 0, 0)]\n",
      "出院病例集合：[108, '66', '男', datetime.datetime(2020, 1, 27, 0, 0), datetime.datetime(2020, 2, 22, 0, 0)]\n",
      "治愈日期：2020-02-21\n",
      "出院病例集合：[109, '56', '男', datetime.datetime(2020, 1, 26, 0, 0), datetime.datetime(2020, 2, 21, 0, 0)]\n",
      "出院病例集合：[110, '29', '女', datetime.datetime(2020, 2, 1, 0, 0), datetime.datetime(2020, 2, 21, 0, 0)]\n",
      "出院病例集合：[111, '35', '女', datetime.datetime(2020, 1, 28, 0, 0), datetime.datetime(2020, 2, 21, 0, 0)]\n",
      "出院病例集合：[112, '28', '男', datetime.datetime(2020, 1, 28, 0, 0), datetime.datetime(2020, 2, 21, 0, 0)]\n",
      "出院病例集合：[113, '55', '女', datetime.datetime(2020, 2, 1, 0, 0), datetime.datetime(2020, 2, 21, 0, 0)]\n",
      "出院病例集合：[114, '24', '男', datetime.datetime(2020, 1, 31, 0, 0), datetime.datetime(2020, 2, 21, 0, 0)]\n",
      "出院病例集合：[115, '33', '女', datetime.datetime(2020, 1, 31, 0, 0), datetime.datetime(2020, 2, 21, 0, 0)]\n",
      "出院病例集合：[116, '37', '女', datetime.datetime(2020, 1, 30, 0, 0), datetime.datetime(2020, 2, 21, 0, 0)]\n",
      "出院病例集合：[117, '68', '男', datetime.datetime(2020, 2, 5, 0, 0), datetime.datetime(2020, 2, 21, 0, 0)]\n",
      "出院病例集合：[118, '57', '女', datetime.datetime(2020, 2, 5, 0, 0), datetime.datetime(2020, 2, 21, 0, 0)]\n",
      "出院病例集合：[119, '29', '女', datetime.datetime(2020, 2, 8, 0, 0), datetime.datetime(2020, 2, 21, 0, 0)]\n",
      "出院病例集合：[120, '62', '男', datetime.datetime(2020, 2, 2, 0, 0), datetime.datetime(2020, 2, 21, 0, 0)]\n",
      "治愈日期：2020-02-20\n",
      "出院病例集合：[121, '66', '女', datetime.datetime(2020, 1, 23, 0, 0), datetime.datetime(2020, 2, 20, 0, 0)]\n",
      "出院病例集合：[122, '68', '男', datetime.datetime(2020, 1, 22, 0, 0), datetime.datetime(2020, 2, 20, 0, 0)]\n",
      "出院病例集合：[123, '64', '女', datetime.datetime(2020, 1, 30, 0, 0), datetime.datetime(2020, 2, 20, 0, 0)]\n",
      "出院病例集合：[124, '38', '女', datetime.datetime(2020, 1, 30, 0, 0), datetime.datetime(2020, 2, 20, 0, 0)]\n",
      "出院病例集合：[125, '67', '女', datetime.datetime(2020, 1, 31, 0, 0), datetime.datetime(2020, 2, 20, 0, 0)]\n",
      "出院病例集合：[126, '66', '男', datetime.datetime(2020, 1, 26, 0, 0), datetime.datetime(2020, 2, 20, 0, 0)]\n",
      "出院病例集合：[127, '58', '男', datetime.datetime(2020, 1, 30, 0, 0), datetime.datetime(2020, 2, 20, 0, 0)]\n",
      "出院病例集合：[128, '74', '女', datetime.datetime(2020, 1, 27, 0, 0), datetime.datetime(2020, 2, 20, 0, 0)]\n",
      "出院病例集合：[129, '68', '男', datetime.datetime(2020, 2, 5, 0, 0), datetime.datetime(2020, 2, 20, 0, 0)]\n",
      "出院病例集合：[130, '42', '男', datetime.datetime(2020, 2, 6, 0, 0), datetime.datetime(2020, 2, 20, 0, 0)]\n",
      "出院病例集合：[131, '36', '男', datetime.datetime(2020, 2, 6, 0, 0), datetime.datetime(2020, 2, 20, 0, 0)]\n",
      "出院病例集合：[132, '33', '女', datetime.datetime(2020, 2, 3, 0, 0), datetime.datetime(2020, 2, 20, 0, 0)]\n",
      "出院病例集合：[133, 0, '女', datetime.datetime(2020, 2, 3, 0, 0), datetime.datetime(2020, 2, 20, 0, 0)]\n",
      "治愈日期：2020-02-19\n",
      "出院病例集合：[134, '63', '女', datetime.datetime(2020, 2, 7, 0, 0), datetime.datetime(2020, 2, 19, 0, 0)]\n",
      "出院病例集合：[135, '35', '女', datetime.datetime(2020, 2, 7, 0, 0), datetime.datetime(2020, 2, 19, 0, 0)]\n",
      "出院病例集合：[136, '66', '女', datetime.datetime(2020, 2, 7, 0, 0), datetime.datetime(2020, 2, 19, 0, 0)]\n",
      "出院病例集合：[137, '63', '女', datetime.datetime(2020, 2, 12, 0, 0), datetime.datetime(2020, 2, 19, 0, 0)]\n",
      "出院病例集合：[138, '40', '女', datetime.datetime(2020, 2, 4, 0, 0), datetime.datetime(2020, 2, 19, 0, 0)]\n",
      "出院病例集合：[139, '45', '男', datetime.datetime(2020, 2, 10, 0, 0), datetime.datetime(2020, 2, 19, 0, 0)]\n",
      "出院病例集合：[140, '37', '男', datetime.datetime(2020, 1, 26, 0, 0), datetime.datetime(2020, 2, 19, 0, 0)]\n",
      "出院病例集合：[141, '39', '女', datetime.datetime(2020, 2, 12, 0, 0), datetime.datetime(2020, 2, 19, 0, 0)]\n",
      "出院病例集合：[142, '51', '女', datetime.datetime(2020, 2, 13, 0, 0), datetime.datetime(2020, 2, 19, 0, 0)]\n",
      "出院病例集合：[143, '79', '女', datetime.datetime(2020, 2, 9, 0, 0), datetime.datetime(2020, 2, 19, 0, 0)]\n",
      "治愈日期：2020-02-18\n",
      "出院病例集合：[144, '59', '男', datetime.datetime(2020, 2, 8, 0, 0), datetime.datetime(2020, 2, 18, 0, 0)]\n",
      "出院病例集合：[145, '59', '男', datetime.datetime(2020, 2, 7, 0, 0), datetime.datetime(2020, 2, 18, 0, 0)]\n",
      "出院病例集合：[146, '50', '男', datetime.datetime(2020, 1, 31, 0, 0), datetime.datetime(2020, 2, 18, 0, 0)]\n",
      "出院病例集合：[147, '69', '男', datetime.datetime(2020, 2, 1, 0, 0), datetime.datetime(2020, 2, 18, 0, 0)]\n",
      "出院病例集合：[148, '51', '男', datetime.datetime(2020, 2, 12, 0, 0), datetime.datetime(2020, 2, 18, 0, 0)]\n",
      "出院病例集合：[149, '24', '女', datetime.datetime(2020, 1, 27, 0, 0), datetime.datetime(2020, 2, 18, 0, 0)]\n",
      "出院病例集合：[150, '64', '女', datetime.datetime(2020, 2, 1, 0, 0), datetime.datetime(2020, 2, 18, 0, 0)]\n",
      "出院病例集合：[151, '40', '男', datetime.datetime(2020, 2, 1, 0, 0), datetime.datetime(2020, 2, 18, 0, 0)]\n",
      "出院病例集合：[152, '40', '女', datetime.datetime(2020, 2, 8, 0, 0), datetime.datetime(2020, 2, 18, 0, 0)]\n",
      "出院病例集合：[153, '42', '男', datetime.datetime(2020, 2, 2, 0, 0), datetime.datetime(2020, 2, 18, 0, 0)]\n",
      "出院病例集合：[154, '49', '男', datetime.datetime(2020, 1, 30, 0, 0), datetime.datetime(2020, 2, 18, 0, 0)]\n",
      "出院病例集合：[155, '49', '男', datetime.datetime(2020, 2, 6, 0, 0), datetime.datetime(2020, 2, 18, 0, 0)]\n",
      "出院病例集合：[156, '58', '女', datetime.datetime(2020, 2, 5, 0, 0), datetime.datetime(2020, 2, 18, 0, 0)]\n",
      "出院病例集合：[157, '71', '男', datetime.datetime(2020, 2, 5, 0, 0), datetime.datetime(2020, 2, 18, 0, 0)]\n",
      "出院病例集合：[158, '46', '女', datetime.datetime(2020, 1, 27, 0, 0), datetime.datetime(2020, 2, 18, 0, 0)]\n",
      "出院病例集合：[159, '11', '女', datetime.datetime(2020, 1, 25, 0, 0), datetime.datetime(2020, 2, 18, 0, 0)]\n",
      "治愈日期：2020-02-17\n",
      "出院病例集合：[160, '62', '男', datetime.datetime(2020, 1, 27, 0, 0), datetime.datetime(2020, 2, 17, 0, 0)]\n",
      "出院病例集合：[161, '62', '男', datetime.datetime(2020, 1, 29, 0, 0), datetime.datetime(2020, 2, 17, 0, 0)]\n",
      "出院病例集合：[162, '31', '女', datetime.datetime(2020, 1, 29, 0, 0), datetime.datetime(2020, 2, 17, 0, 0)]\n",
      "出院病例集合：[163, '53', '女', datetime.datetime(2020, 1, 31, 0, 0), datetime.datetime(2020, 2, 17, 0, 0)]\n",
      "出院病例集合：[164, '42', '女', datetime.datetime(2020, 1, 31, 0, 0), datetime.datetime(2020, 2, 17, 0, 0)]\n",
      "出院病例集合：[165, '71', '男', datetime.datetime(2020, 1, 30, 0, 0), datetime.datetime(2020, 2, 17, 0, 0)]\n",
      "出院病例集合：[166, '84', '女', datetime.datetime(2020, 2, 1, 0, 0), datetime.datetime(2020, 2, 17, 0, 0)]\n",
      "出院病例集合：[167, '35', '男', datetime.datetime(2020, 2, 6, 0, 0), datetime.datetime(2020, 2, 17, 0, 0)]\n",
      "出院病例集合：[168, '37', '男', datetime.datetime(2020, 2, 4, 0, 0), datetime.datetime(2020, 2, 17, 0, 0)]\n",
      "出院病例集合：[169, '56', '男', datetime.datetime(2020, 2, 7, 0, 0), datetime.datetime(2020, 2, 17, 0, 0)]\n",
      "出院病例集合：[170, '60', '女', datetime.datetime(2020, 2, 5, 0, 0), datetime.datetime(2020, 2, 17, 0, 0)]\n",
      "出院病例集合：[171, '38', '男', datetime.datetime(2020, 2, 5, 0, 0), datetime.datetime(2020, 2, 17, 0, 0)]\n",
      "出院病例集合：[172, '73', '女', datetime.datetime(2020, 2, 5, 0, 0), datetime.datetime(2020, 2, 17, 0, 0)]\n",
      "出院病例集合：[173, '67', '女', datetime.datetime(2020, 2, 5, 0, 0), datetime.datetime(2020, 2, 17, 0, 0)]\n",
      "出院病例集合：[174, '74', '女', datetime.datetime(2020, 2, 5, 0, 0), datetime.datetime(2020, 2, 17, 0, 0)]\n",
      "出院病例集合：[175, '29', '男', datetime.datetime(2020, 2, 1, 0, 0), datetime.datetime(2020, 2, 17, 0, 0)]\n",
      "出院病例集合：[176, '39', '男', datetime.datetime(2020, 2, 1, 0, 0), datetime.datetime(2020, 2, 17, 0, 0)]\n",
      "出院病例集合：[177, '50', '男', datetime.datetime(2020, 2, 10, 0, 0), datetime.datetime(2020, 2, 17, 0, 0)]\n",
      "出院病例集合：[178, '51', '女', datetime.datetime(2020, 2, 4, 0, 0), datetime.datetime(2020, 2, 17, 0, 0)]\n",
      "出院病例集合：[179, '32', '女', datetime.datetime(2020, 2, 4, 0, 0), datetime.datetime(2020, 2, 17, 0, 0)]\n",
      "出院病例集合：[180, '60', '女', datetime.datetime(2020, 1, 31, 0, 0), datetime.datetime(2020, 2, 17, 0, 0)]\n"
     ]
    },
    {
     "name": "stdout",
     "output_type": "stream",
     "text": [
      "治愈日期：2020-02-16\n",
      "出院病例集合：[181, '57', '女', datetime.datetime(2020, 2, 8, 0, 0), datetime.datetime(2020, 2, 16, 0, 0)]\n",
      "出院病例集合：[182, '41', '女', datetime.datetime(2020, 1, 28, 0, 0), datetime.datetime(2020, 2, 16, 0, 0)]\n",
      "出院病例集合：[183, '69', '男', datetime.datetime(2020, 1, 28, 0, 0), datetime.datetime(2020, 2, 16, 0, 0)]\n",
      "出院病例集合：[184, '66', '女', datetime.datetime(2020, 1, 31, 0, 0), datetime.datetime(2020, 2, 16, 0, 0)]\n",
      "出院病例集合：[185, '66', '男', datetime.datetime(2020, 2, 7, 0, 0), datetime.datetime(2020, 2, 16, 0, 0)]\n",
      "出院病例集合：[186, '32', '女', datetime.datetime(2020, 1, 31, 0, 0), datetime.datetime(2020, 2, 16, 0, 0)]\n",
      "出院病例集合：[187, '62', '女', datetime.datetime(2020, 1, 26, 0, 0), datetime.datetime(2020, 2, 16, 0, 0)]\n",
      "出院病例集合：[188, '68', '女', datetime.datetime(2020, 1, 31, 0, 0), datetime.datetime(2020, 2, 16, 0, 0)]\n",
      "出院病例集合：[189, '40', '男', datetime.datetime(2020, 2, 1, 0, 0), datetime.datetime(2020, 2, 16, 0, 0)]\n",
      "出院病例集合：[190, '70', '男', datetime.datetime(2020, 2, 1, 0, 0), datetime.datetime(2020, 2, 16, 0, 0)]\n",
      "出院病例集合：[191, '30', '男', datetime.datetime(2020, 2, 8, 0, 0), datetime.datetime(2020, 2, 16, 0, 0)]\n",
      "出院病例集合：[192, '27', '男', datetime.datetime(2020, 2, 4, 0, 0), datetime.datetime(2020, 2, 16, 0, 0)]\n",
      "出院病例集合：[193, '34', '男', datetime.datetime(2020, 2, 6, 0, 0), datetime.datetime(2020, 2, 16, 0, 0)]\n",
      "出院病例集合：[194, '64', '女', datetime.datetime(2020, 2, 5, 0, 0), datetime.datetime(2020, 2, 16, 0, 0)]\n",
      "出院病例集合：[195, '54', '男', datetime.datetime(2020, 2, 4, 0, 0), datetime.datetime(2020, 2, 16, 0, 0)]\n",
      "出院病例集合：[196, '32', '男', datetime.datetime(2020, 2, 3, 0, 0), datetime.datetime(2020, 2, 16, 0, 0)]\n",
      "治愈日期：2020-02-15\n",
      "出院病例集合：[197, '11', '女', datetime.datetime(2020, 1, 31, 0, 0), datetime.datetime(2020, 2, 15, 0, 0)]\n",
      "出院病例集合：[198, 0, '女', datetime.datetime(2020, 2, 5, 0, 0), datetime.datetime(2020, 2, 15, 0, 0)]\n",
      "出院病例集合：[199, '65', '男', datetime.datetime(2020, 1, 24, 0, 0), datetime.datetime(2020, 2, 15, 0, 0)]\n",
      "出院病例集合：[200, '36', '男', datetime.datetime(2020, 1, 30, 0, 0), datetime.datetime(2020, 2, 15, 0, 0)]\n",
      "出院病例集合：[201, '61', '女', datetime.datetime(2020, 1, 30, 0, 0), datetime.datetime(2020, 2, 15, 0, 0)]\n",
      "出院病例集合：[202, '33', '男', datetime.datetime(2020, 1, 30, 0, 0), datetime.datetime(2020, 2, 15, 0, 0)]\n",
      "出院病例集合：[203, '59', '女', datetime.datetime(2020, 1, 30, 0, 0), datetime.datetime(2020, 2, 15, 0, 0)]\n",
      "出院病例集合：[204, '36', '男', datetime.datetime(2020, 1, 31, 0, 0), datetime.datetime(2020, 2, 15, 0, 0)]\n",
      "出院病例集合：[205, '64', '女', datetime.datetime(2020, 1, 30, 0, 0), datetime.datetime(2020, 2, 15, 0, 0)]\n",
      "出院病例集合：[206, '58', '男', datetime.datetime(2020, 1, 31, 0, 0), datetime.datetime(2020, 2, 15, 0, 0)]\n",
      "出院病例集合：[207, '57', '女', datetime.datetime(2020, 1, 31, 0, 0), datetime.datetime(2020, 2, 15, 0, 0)]\n",
      "出院病例集合：[208, '45', '女', datetime.datetime(2020, 2, 1, 0, 0), datetime.datetime(2020, 2, 15, 0, 0)]\n",
      "出院病例集合：[209, '33', '男', datetime.datetime(2020, 2, 8, 0, 0), datetime.datetime(2020, 2, 15, 0, 0)]\n",
      "出院病例集合：[210, '15', '男', datetime.datetime(2020, 2, 6, 0, 0), datetime.datetime(2020, 2, 15, 0, 0)]\n",
      "出院病例集合：[211, '75', '男', datetime.datetime(2020, 2, 4, 0, 0), datetime.datetime(2020, 2, 15, 0, 0)]\n",
      "出院病例集合：[212, '48', '女', datetime.datetime(2020, 2, 4, 0, 0), datetime.datetime(2020, 2, 15, 0, 0)]\n",
      "出院病例集合：[213, '22', '女', datetime.datetime(2020, 2, 4, 0, 0), datetime.datetime(2020, 2, 15, 0, 0)]\n",
      "出院病例集合：[214, '25', '女', datetime.datetime(2020, 2, 4, 0, 0), datetime.datetime(2020, 2, 15, 0, 0)]\n",
      "出院病例集合：[215, '59', '女', datetime.datetime(2020, 2, 5, 0, 0), datetime.datetime(2020, 2, 15, 0, 0)]\n",
      "出院病例集合：[216, '56', '男', datetime.datetime(2020, 2, 5, 0, 0), datetime.datetime(2020, 2, 15, 0, 0)]\n",
      "出院病例集合：[217, '39', '女', datetime.datetime(2020, 2, 5, 0, 0), datetime.datetime(2020, 2, 15, 0, 0)]\n",
      "出院病例集合：[218, '47', '女', datetime.datetime(2020, 2, 5, 0, 0), datetime.datetime(2020, 2, 15, 0, 0)]\n",
      "出院病例集合：[219, '39', '男', datetime.datetime(2020, 1, 26, 0, 0), datetime.datetime(2020, 2, 15, 0, 0)]\n",
      "出院病例集合：[220, '55', '男', datetime.datetime(2020, 2, 5, 0, 0), datetime.datetime(2020, 2, 15, 0, 0)]\n",
      "出院病例集合：[221, '41', '男', datetime.datetime(2020, 2, 2, 0, 0), datetime.datetime(2020, 2, 15, 0, 0)]\n",
      "出院病例集合：[222, '33', '女', datetime.datetime(2020, 2, 3, 0, 0), datetime.datetime(2020, 2, 15, 0, 0)]\n",
      "出院病例集合：[223, '41', '男', datetime.datetime(2020, 1, 29, 0, 0), datetime.datetime(2020, 2, 15, 0, 0)]\n",
      "出院病例集合：[224, '65', '男', datetime.datetime(2020, 1, 29, 0, 0), datetime.datetime(2020, 2, 15, 0, 0)]\n",
      "出院病例集合：[225, '24', '女', datetime.datetime(2020, 1, 31, 0, 0), datetime.datetime(2020, 2, 15, 0, 0)]\n",
      "出院病例集合：[226, '47', '女', datetime.datetime(2020, 1, 26, 0, 0), datetime.datetime(2020, 2, 15, 0, 0)]\n",
      "出院病例集合：[227, '40', '女', datetime.datetime(2020, 1, 21, 0, 0), datetime.datetime(2020, 2, 15, 0, 0)]\n",
      "出院病例集合：[228, '28', '男', datetime.datetime(2020, 2, 3, 0, 0), datetime.datetime(2020, 2, 15, 0, 0)]\n",
      "出院病例集合：[229, '32', '女', datetime.datetime(2020, 2, 3, 0, 0), datetime.datetime(2020, 2, 15, 0, 0)]\n",
      "出院病例集合：[230, '51', '女', datetime.datetime(2020, 1, 22, 0, 0), datetime.datetime(2020, 2, 15, 0, 0)]\n",
      "治愈日期：2020-02-14\n",
      "出院病例集合：[231, '56', '女', datetime.datetime(2020, 2, 2, 0, 0), datetime.datetime(2020, 2, 14, 0, 0)]\n",
      "出院病例集合：[232, '41', '男', datetime.datetime(2020, 1, 24, 0, 0), datetime.datetime(2020, 2, 14, 0, 0)]\n",
      "出院病例集合：[233, '34', '男', datetime.datetime(2020, 1, 29, 0, 0), datetime.datetime(2020, 2, 14, 0, 0)]\n",
      "出院病例集合：[234, '62', '女', datetime.datetime(2020, 1, 28, 0, 0), datetime.datetime(2020, 2, 14, 0, 0)]\n",
      "出院病例集合：[235, '30', '男', datetime.datetime(2020, 2, 7, 0, 0), datetime.datetime(2020, 2, 14, 0, 0)]\n",
      "出院病例集合：[236, '44', '男', datetime.datetime(2020, 2, 7, 0, 0), datetime.datetime(2020, 2, 14, 0, 0)]\n",
      "出院病例集合：[237, '64', '女', datetime.datetime(2020, 1, 29, 0, 0), datetime.datetime(2020, 2, 14, 0, 0)]\n",
      "出院病例集合：[238, '55', '男', datetime.datetime(2020, 1, 29, 0, 0), datetime.datetime(2020, 2, 14, 0, 0)]\n",
      "出院病例集合：[239, '67', '男', datetime.datetime(2020, 2, 1, 0, 0), datetime.datetime(2020, 2, 14, 0, 0)]\n",
      "出院病例集合：[240, '35', '女', datetime.datetime(2020, 1, 30, 0, 0), datetime.datetime(2020, 2, 14, 0, 0)]\n",
      "出院病例集合：[241, '68', '女', datetime.datetime(2020, 1, 30, 0, 0), datetime.datetime(2020, 2, 14, 0, 0)]\n",
      "出院病例集合：[242, '45', '女', datetime.datetime(2020, 1, 31, 0, 0), datetime.datetime(2020, 2, 14, 0, 0)]\n",
      "出院病例集合：[243, '70', '女', datetime.datetime(2020, 1, 31, 0, 0), datetime.datetime(2020, 2, 14, 0, 0)]\n",
      "出院病例集合：[244, '51', '男', datetime.datetime(2020, 1, 31, 0, 0), datetime.datetime(2020, 2, 14, 0, 0)]\n",
      "出院病例集合：[245, '34', '男', datetime.datetime(2020, 1, 30, 0, 0), datetime.datetime(2020, 2, 14, 0, 0)]\n",
      "出院病例集合：[246, '66', '女', datetime.datetime(2020, 1, 30, 0, 0), datetime.datetime(2020, 2, 14, 0, 0)]\n",
      "出院病例集合：[247, '60', '男', datetime.datetime(2020, 2, 1, 0, 0), datetime.datetime(2020, 2, 14, 0, 0)]\n",
      "出院病例集合：[248, '36', '女', datetime.datetime(2020, 2, 1, 0, 0), datetime.datetime(2020, 2, 14, 0, 0)]\n",
      "出院病例集合：[249, '43', '女', datetime.datetime(2020, 2, 1, 0, 0), datetime.datetime(2020, 2, 14, 0, 0)]\n",
      "出院病例集合：[250, '37', '女', datetime.datetime(2020, 1, 24, 0, 0), datetime.datetime(2020, 2, 14, 0, 0)]\n",
      "出院病例集合：[251, '67', '女', datetime.datetime(2020, 2, 1, 0, 0), datetime.datetime(2020, 2, 14, 0, 0)]\n",
      "出院病例集合：[252, '67', '女', datetime.datetime(2020, 2, 1, 0, 0), datetime.datetime(2020, 2, 14, 0, 0)]\n",
      "出院病例集合：[253, '39', '男', datetime.datetime(2020, 2, 6, 0, 0), datetime.datetime(2020, 2, 14, 0, 0)]\n",
      "出院病例集合：[254, '40', '女', datetime.datetime(2020, 2, 4, 0, 0), datetime.datetime(2020, 2, 14, 0, 0)]\n",
      "出院病例集合：[255, '22', '男', datetime.datetime(2020, 2, 4, 0, 0), datetime.datetime(2020, 2, 14, 0, 0)]\n",
      "出院病例集合：[256, '47', '男', datetime.datetime(2020, 2, 6, 0, 0), datetime.datetime(2020, 2, 14, 0, 0)]\n",
      "出院病例集合：[257, '57', '男', datetime.datetime(2020, 2, 2, 0, 0), datetime.datetime(2020, 2, 14, 0, 0)]\n",
      "出院病例集合：[258, '75', '女', datetime.datetime(2020, 1, 29, 0, 0), datetime.datetime(2020, 2, 14, 0, 0)]\n",
      "治愈日期：2020-02-13\n",
      "出院病例集合：[259, '50', '男', datetime.datetime(2020, 2, 6, 0, 0), datetime.datetime(2020, 2, 13, 0, 0)]\n",
      "出院病例集合：[260, '60', '男', datetime.datetime(2020, 2, 4, 0, 0), datetime.datetime(2020, 2, 13, 0, 0)]\n",
      "出院病例集合：[261, '47', '男', datetime.datetime(2020, 2, 6, 0, 0), datetime.datetime(2020, 2, 13, 0, 0)]\n",
      "出院病例集合：[262, '32', '女', datetime.datetime(2020, 1, 31, 0, 0), datetime.datetime(2020, 2, 13, 0, 0)]\n",
      "出院病例集合：[263, '39', '男', datetime.datetime(2020, 2, 4, 0, 0), datetime.datetime(2020, 2, 13, 0, 0)]\n"
     ]
    },
    {
     "name": "stdout",
     "output_type": "stream",
     "text": [
      "治愈日期：2020-02-12\n",
      "出院病例集合：[264, '24', '女', datetime.datetime(2020, 1, 30, 0, 0), datetime.datetime(2020, 2, 12, 0, 0)]\n",
      "出院病例集合：[265, '31', '男', datetime.datetime(2020, 1, 30, 0, 0), datetime.datetime(2020, 2, 12, 0, 0)]\n",
      "出院病例集合：[266, '31', '女', datetime.datetime(2020, 2, 4, 0, 0), datetime.datetime(2020, 2, 12, 0, 0)]\n",
      "出院病例集合：[267, '35', '女', datetime.datetime(2020, 2, 4, 0, 0), datetime.datetime(2020, 2, 12, 0, 0)]\n",
      "治愈日期：2020-02-11\n",
      "出院病例集合：[268, '9', '男', datetime.datetime(2020, 2, 1, 0, 0), datetime.datetime(2020, 2, 11, 0, 0)]\n",
      "治愈日期：2020-02-11\n",
      "出院病例集合：[269, '63', '男', datetime.datetime(2020, 1, 28, 0, 0), datetime.datetime(2020, 2, 11, 0, 0)]\n",
      "出院病例集合：[270, '40', '女', datetime.datetime(2020, 1, 28, 0, 0), datetime.datetime(2020, 2, 11, 0, 0)]\n",
      "出院病例集合：[271, '55', '男', datetime.datetime(2020, 2, 2, 0, 0), datetime.datetime(2020, 2, 11, 0, 0)]\n",
      "出院病例集合：[272, '66', '男', datetime.datetime(2020, 2, 3, 0, 0), datetime.datetime(2020, 2, 11, 0, 0)]\n",
      "治愈日期：2020-02-10\n",
      "出院病例集合：[273, '42', '女', datetime.datetime(2020, 1, 25, 0, 0), datetime.datetime(2020, 2, 10, 0, 0)]\n",
      "出院病例集合：[274, '40', '女', datetime.datetime(2020, 1, 27, 0, 0), datetime.datetime(2020, 2, 10, 0, 0)]\n",
      "出院病例集合：[275, '26', '女', datetime.datetime(2020, 1, 29, 0, 0), datetime.datetime(2020, 2, 10, 0, 0)]\n",
      "出院病例集合：[276, '66', '女', datetime.datetime(2020, 1, 31, 0, 0), datetime.datetime(2020, 2, 10, 0, 0)]\n",
      "治愈日期：2020-02-09\n",
      "出院病例集合：[277, '41', '男', datetime.datetime(2020, 1, 29, 0, 0), datetime.datetime(2020, 2, 9, 0, 0)]\n",
      "出院病例集合：[278, '36', '女', datetime.datetime(2020, 2, 3, 0, 0), datetime.datetime(2020, 2, 9, 0, 0)]\n",
      "出院病例集合：[279, '69', '女', datetime.datetime(2020, 2, 3, 0, 0), datetime.datetime(2020, 2, 9, 0, 0)]\n",
      "治愈日期：2020-02-08\n",
      "出院病例集合：[280, '42', '男', datetime.datetime(2020, 1, 27, 0, 0), datetime.datetime(2020, 2, 8, 0, 0)]\n",
      "出院病例集合：[281, '34', '女', datetime.datetime(2020, 1, 26, 0, 0), datetime.datetime(2020, 2, 8, 0, 0)]\n",
      "出院病例集合：[282, '40', '男', datetime.datetime(2020, 1, 29, 0, 0), datetime.datetime(2020, 2, 8, 0, 0)]\n",
      "出院病例集合：[283, '54', '女', datetime.datetime(2020, 1, 26, 0, 0), datetime.datetime(2020, 2, 8, 0, 0)]\n",
      "出院病例集合：[284, '61', '女', datetime.datetime(2020, 1, 25, 0, 0), datetime.datetime(2020, 2, 8, 0, 0)]\n",
      "出院病例集合：[285, '54', '男', datetime.datetime(2020, 1, 24, 0, 0), datetime.datetime(2020, 2, 8, 0, 0)]\n",
      "出院病例集合：[286, '25', '女', datetime.datetime(2020, 1, 26, 0, 0), datetime.datetime(2020, 2, 8, 0, 0)]\n",
      "出院病例集合：[287, '29', '男', datetime.datetime(2020, 1, 20, 0, 0), datetime.datetime(2020, 2, 8, 0, 0)]\n",
      "出院病例集合：[288, '71', '男', datetime.datetime(2020, 1, 26, 0, 0), datetime.datetime(2020, 2, 8, 0, 0)]\n",
      "出院病例集合：[289, '29', '男', datetime.datetime(2020, 1, 27, 0, 0), datetime.datetime(2020, 2, 8, 0, 0)]\n",
      "出院病例集合：[290, '7', '男', datetime.datetime(2020, 1, 21, 0, 0), datetime.datetime(2020, 2, 8, 0, 0)]\n",
      "治愈日期：2020-02-07\n",
      "治愈日期：2020-02-06\n",
      "出院病例集合：[291, '73', '男', datetime.datetime(2020, 1, 22, 0, 0), datetime.datetime(2020, 2, 6, 0, 0)]\n",
      "出院病例集合：[292, '36', '男', datetime.datetime(2020, 1, 23, 0, 0), datetime.datetime(2020, 2, 6, 0, 0)]\n",
      "出院病例集合：[293, '48', '女', datetime.datetime(2020, 1, 24, 0, 0), datetime.datetime(2020, 2, 6, 0, 0)]\n",
      "出院病例集合：[294, '44', '男', datetime.datetime(2020, 1, 25, 0, 0), datetime.datetime(2020, 2, 6, 0, 0)]\n",
      "出院病例集合：[295, '16', '女', datetime.datetime(2020, 1, 26, 0, 0), datetime.datetime(2020, 2, 6, 0, 0)]\n",
      "出院病例集合：[296, '33', '男', datetime.datetime(2020, 1, 27, 0, 0), datetime.datetime(2020, 2, 6, 0, 0)]\n",
      "出院病例集合：[297, '16', '女', datetime.datetime(2020, 1, 29, 0, 0), datetime.datetime(2020, 2, 6, 0, 0)]\n",
      "出院病例集合：[298, '38', '女', datetime.datetime(2020, 1, 29, 0, 0), datetime.datetime(2020, 2, 6, 0, 0)]\n",
      "出院病例集合：[299, '38', '男', datetime.datetime(2020, 1, 31, 0, 0), datetime.datetime(2020, 2, 6, 0, 0)]\n",
      "出院病例集合：[300, '80', '女', datetime.datetime(2020, 1, 31, 0, 0), datetime.datetime(2020, 2, 6, 0, 0)]\n",
      "治愈日期：2020-02-05\n",
      "出院病例集合：[301, '39', '男', datetime.datetime(2020, 1, 24, 0, 0), datetime.datetime(2020, 2, 5, 0, 0)]\n",
      "出院病例集合：[302, '46', '女', datetime.datetime(2020, 1, 27, 0, 0), datetime.datetime(2020, 2, 5, 0, 0)]\n",
      "出院病例集合：[303, '48', '男', datetime.datetime(2020, 1, 28, 0, 0), datetime.datetime(2020, 2, 5, 0, 0)]\n",
      "治愈日期：2020-02-04\n",
      "出院病例集合：[304, '35', '男', datetime.datetime(2020, 1, 21, 0, 0), datetime.datetime(2020, 2, 4, 0, 0)]\n",
      "出院病例集合：[305, '64', '女', datetime.datetime(2020, 1, 23, 0, 0), datetime.datetime(2020, 2, 4, 0, 0)]\n",
      "治愈日期：2020-02-01\n",
      "出院病例集合：[306, '77', '女', datetime.datetime(2020, 1, 26, 0, 0), datetime.datetime(2020, 2, 1, 0, 0)]\n",
      "治愈日期：2020-01-31\n",
      "出院病例集合：[307, '52', '男', datetime.datetime(2020, 1, 24, 0, 0), datetime.datetime(2020, 1, 31, 0, 0)]\n",
      "出院病例集合：[308, '66', '女', datetime.datetime(2020, 1, 25, 0, 0), datetime.datetime(2020, 1, 31, 0, 0)]\n",
      "出院病例集合：[309, '20', '男', datetime.datetime(2020, 1, 24, 0, 0), datetime.datetime(2020, 1, 31, 0, 0)]\n",
      "出院病例集合：[310, '44', '男', datetime.datetime(2020, 1, 23, 0, 0), datetime.datetime(2020, 1, 31, 0, 0)]\n",
      "治愈日期：2020-01-29\n",
      "出院病例集合：[311, '32', '男', datetime.datetime(2020, 1, 21, 0, 0), datetime.datetime(2020, 1, 29, 0, 0)]\n",
      "治愈日期：2020-01-28\n",
      "出院病例集合：[312, '21', '女', datetime.datetime(2020, 1, 22, 0, 0), datetime.datetime(2020, 1, 28, 0, 0)]\n",
      "治愈日期：2020-01-27\n",
      "出院病例集合：[313, '56', '男', datetime.datetime(2020, 1, 18, 0, 0), datetime.datetime(2020, 1, 27, 0, 0)]\n",
      "出院病例集合：[314, '58', '女', datetime.datetime(2020, 1, 18, 0, 0), datetime.datetime(2020, 1, 27, 0, 0)]\n",
      "治愈总人数：315\n"
     ]
    }
   ],
   "source": [
    "count_index = 0     #患者编号，从0开始\n",
    "#cure_patient_info = []     #记录每一位患者相关信息\n",
    "cure_detail_list = [['p_num','age','gender','confirm_date','cure_date']]     #初始化出院患者信息列表(患者编号,年龄,性别,确诊时间,出院时间)\n",
    "\n",
    "for i,article_url in enumerate(articleLink_list):\n",
    "    cur_real_cure_date = real_cure_date_list[i]\n",
    "    print(f\"治愈日期：{cur_real_cure_date}\")\n",
    "    \n",
    "    browser = webdriver.Chrome('./chromedriver.exe')\n",
    "    browser.get(article_url)\n",
    "    time.sleep(5)\n",
    "    detail_text = browser.page_source\n",
    "    #print(f\"返回状态：{response_articleDetail.status_code},返回编码集：{response_articleDetail.encoding}\")\n",
    "    #detail_text = response_articleDetail.text\n",
    "    detail_page_model = bs(detail_text,'lxml')\n",
    "    mother_node = detail_page_model.find('span',text=re.compile('卫*健*委今*')).parent.parent #不知道为什么这样可以,前面加个\"市\"就匹配不上\n",
    "    if mother_node.name != 'section':     #又蒙对了一把？\n",
    "        mother_node = mother_node.parent\n",
    "    patients_content = mother_node.find_all('p')\n",
    "\n",
    "    for patient_piece in patients_content:\n",
    "        patient_tag = patient_piece.find('span')\n",
    "        if patient_tag == None:\n",
    "            patient_tag = patient_piece.text     #有的段落不带span\n",
    "        if type(patient_tag) != str:     #在重新赋值以后，类型也改变了,这里str不能加引号\n",
    "            patient_tag = patient_tag.text\n",
    "        #print(f\"出院病例详情：{patient_tag}\")\n",
    "        gender = \"\"\n",
    "        age = 0\n",
    "        if (str(patient_tag).find(\"确诊为\") == -1 and str(patient_tag).find(\"确认为\") == -1) or str(patient_tag).find(\"死亡\") != -1:\n",
    "            continue\n",
    "        else:\n",
    "            info_list = patient_tag.split(\"，\")     #中文逗号\n",
    "            for info in info_list:\n",
    "                if info == \"男\" or info == \"女\":\n",
    "                    gender = info\n",
    "                elif info.find(\"岁\") != -1:\n",
    "                    age = info[0:info.find('岁')]\n",
    "                elif (info.find('确诊为') != -1) or (info.find('确认为') != -1):\n",
    "                    regex_month = re.compile('\\d+月')\n",
    "                    regex_date = re.compile('\\d+日')\n",
    "                    reo_month = regex_month.search(info)\n",
    "                    if reo_month != None:\n",
    "                        month_in_text = info[reo_month.start():reo_month.end()-1]\n",
    "                        if int(month_in_text) < 10:\n",
    "                            month_in_text = '0' + month_in_text\n",
    "                    reo_date = regex_date.search(info)\n",
    "                    if reo_date != None:\n",
    "                        date_in_text = info[reo_date.start():reo_date.end()-1]\n",
    "                        if int(date_in_text) < 10:\n",
    "                            date_in_text = '0' + date_in_text\n",
    "                    confirm_date_str = '2020-'+month_in_text+\"-\"+date_in_text\n",
    "                    confirm_date = dateparse.parse(confirm_date_str) \n",
    "                else:\n",
    "                    continue\n",
    "            cure_detail_info = [count_index,age,gender,confirm_date,dateparse.parse(cur_real_cure_date)]\n",
    "            print(f\"出院病例集合：{cure_detail_info}\")\n",
    "            cure_detail_list.append(cure_detail_info)\n",
    "            count_index += 1\n",
    "    browser.close()\n",
    "print(f'治愈总人数：{len(cure_detail_list)-1}')"
   ]
  },
  {
   "cell_type": "markdown",
   "metadata": {},
   "source": [
    "### 数据清洗"
   ]
  },
  {
   "cell_type": "code",
   "execution_count": 12,
   "metadata": {},
   "outputs": [
    {
     "data": {
      "text/html": [
       "<div>\n",
       "<style scoped>\n",
       "    .dataframe tbody tr th:only-of-type {\n",
       "        vertical-align: middle;\n",
       "    }\n",
       "\n",
       "    .dataframe tbody tr th {\n",
       "        vertical-align: top;\n",
       "    }\n",
       "\n",
       "    .dataframe thead th {\n",
       "        text-align: right;\n",
       "    }\n",
       "</style>\n",
       "<table border=\"1\" class=\"dataframe\">\n",
       "  <thead>\n",
       "    <tr style=\"text-align: right;\">\n",
       "      <th></th>\n",
       "      <th>p_num</th>\n",
       "      <th>age</th>\n",
       "      <th>gender</th>\n",
       "      <th>confirm_date</th>\n",
       "      <th>cure_date</th>\n",
       "    </tr>\n",
       "  </thead>\n",
       "  <tbody>\n",
       "    <tr>\n",
       "      <td>310</td>\n",
       "      <td>310</td>\n",
       "      <td>44</td>\n",
       "      <td>男</td>\n",
       "      <td>2020-01-23</td>\n",
       "      <td>2020-01-31</td>\n",
       "    </tr>\n",
       "    <tr>\n",
       "      <td>311</td>\n",
       "      <td>311</td>\n",
       "      <td>32</td>\n",
       "      <td>男</td>\n",
       "      <td>2020-01-21</td>\n",
       "      <td>2020-01-29</td>\n",
       "    </tr>\n",
       "    <tr>\n",
       "      <td>312</td>\n",
       "      <td>312</td>\n",
       "      <td>21</td>\n",
       "      <td>女</td>\n",
       "      <td>2020-01-22</td>\n",
       "      <td>2020-01-28</td>\n",
       "    </tr>\n",
       "    <tr>\n",
       "      <td>313</td>\n",
       "      <td>313</td>\n",
       "      <td>56</td>\n",
       "      <td>男</td>\n",
       "      <td>2020-01-18</td>\n",
       "      <td>2020-01-27</td>\n",
       "    </tr>\n",
       "    <tr>\n",
       "      <td>314</td>\n",
       "      <td>314</td>\n",
       "      <td>58</td>\n",
       "      <td>女</td>\n",
       "      <td>2020-01-18</td>\n",
       "      <td>2020-01-27</td>\n",
       "    </tr>\n",
       "  </tbody>\n",
       "</table>\n",
       "</div>"
      ],
      "text/plain": [
       "     p_num age gender confirm_date  cure_date\n",
       "310    310  44      男   2020-01-23 2020-01-31\n",
       "311    311  32      男   2020-01-21 2020-01-29\n",
       "312    312  21      女   2020-01-22 2020-01-28\n",
       "313    313  56      男   2020-01-18 2020-01-27\n",
       "314    314  58      女   2020-01-18 2020-01-27"
      ]
     },
     "execution_count": 12,
     "metadata": {},
     "output_type": "execute_result"
    }
   ],
   "source": [
    "df_cure_info = pd.DataFrame(data=cure_detail_list[1:],columns=cure_detail_list[0])\n",
    "df_cure_info.to_excel('cure_patients_in_shanghai.xlsx')\n",
    "df_cure_info.tail()"
   ]
  },
  {
   "cell_type": "code",
   "execution_count": 13,
   "metadata": {},
   "outputs": [
    {
     "data": {
      "text/plain": [
       "Index(['p_num', 'age', 'gender', 'confirm_date', 'cure_date'], dtype='object')"
      ]
     },
     "execution_count": 13,
     "metadata": {},
     "output_type": "execute_result"
    }
   ],
   "source": [
    "df_cure_info.columns"
   ]
  },
  {
   "cell_type": "code",
   "execution_count": 14,
   "metadata": {},
   "outputs": [
    {
     "data": {
      "text/plain": [
       "(315, 5)"
      ]
     },
     "execution_count": 14,
     "metadata": {},
     "output_type": "execute_result"
    }
   ],
   "source": [
    "df_cure_info.shape"
   ]
  },
  {
   "cell_type": "code",
   "execution_count": 15,
   "metadata": {},
   "outputs": [
    {
     "name": "stdout",
     "output_type": "stream",
     "text": [
      "<class 'pandas.core.frame.DataFrame'>\n",
      "RangeIndex: 315 entries, 0 to 314\n",
      "Data columns (total 5 columns):\n",
      "p_num           315 non-null int64\n",
      "age             315 non-null object\n",
      "gender          315 non-null object\n",
      "confirm_date    315 non-null datetime64[ns]\n",
      "cure_date       315 non-null datetime64[ns]\n",
      "dtypes: datetime64[ns](2), int64(1), object(2)\n",
      "memory usage: 12.4+ KB\n"
     ]
    }
   ],
   "source": [
    "df_cure_info.info()"
   ]
  },
  {
   "cell_type": "code",
   "execution_count": 16,
   "metadata": {},
   "outputs": [
    {
     "data": {
      "text/plain": [
       "p_num                    int64\n",
       "age                     object\n",
       "gender                  object\n",
       "confirm_date    datetime64[ns]\n",
       "cure_date       datetime64[ns]\n",
       "dtype: object"
      ]
     },
     "execution_count": 16,
     "metadata": {},
     "output_type": "execute_result"
    }
   ],
   "source": [
    "df_cure_info.dtypes"
   ]
  },
  {
   "cell_type": "code",
   "execution_count": 17,
   "metadata": {},
   "outputs": [
    {
     "data": {
      "text/plain": [
       "(315, 5)"
      ]
     },
     "execution_count": 17,
     "metadata": {},
     "output_type": "execute_result"
    }
   ],
   "source": [
    "df_cure_info.drop_duplicates\n",
    "df_cure_info.shape"
   ]
  },
  {
   "cell_type": "code",
   "execution_count": 18,
   "metadata": {},
   "outputs": [
    {
     "data": {
      "text/plain": [
       "p_num                    int64\n",
       "age                      int32\n",
       "gender                  object\n",
       "confirm_date    datetime64[ns]\n",
       "cure_date       datetime64[ns]\n",
       "dtype: object"
      ]
     },
     "execution_count": 18,
     "metadata": {},
     "output_type": "execute_result"
    }
   ],
   "source": [
    "df_cure_info.age = df_cure_info.age.astype(int)\n",
    "df_cure_info.dtypes"
   ]
  },
  {
   "cell_type": "code",
   "execution_count": 19,
   "metadata": {},
   "outputs": [
    {
     "data": {
      "text/html": [
       "<div>\n",
       "<style scoped>\n",
       "    .dataframe tbody tr th:only-of-type {\n",
       "        vertical-align: middle;\n",
       "    }\n",
       "\n",
       "    .dataframe tbody tr th {\n",
       "        vertical-align: top;\n",
       "    }\n",
       "\n",
       "    .dataframe thead th {\n",
       "        text-align: right;\n",
       "    }\n",
       "</style>\n",
       "<table border=\"1\" class=\"dataframe\">\n",
       "  <thead>\n",
       "    <tr style=\"text-align: right;\">\n",
       "      <th></th>\n",
       "      <th>p_num</th>\n",
       "      <th>age</th>\n",
       "      <th>gender</th>\n",
       "      <th>confirm_date</th>\n",
       "      <th>cure_date</th>\n",
       "    </tr>\n",
       "  </thead>\n",
       "  <tbody>\n",
       "    <tr>\n",
       "      <td>133</td>\n",
       "      <td>133</td>\n",
       "      <td>0</td>\n",
       "      <td>女</td>\n",
       "      <td>2020-02-03</td>\n",
       "      <td>2020-02-20</td>\n",
       "    </tr>\n",
       "    <tr>\n",
       "      <td>198</td>\n",
       "      <td>198</td>\n",
       "      <td>0</td>\n",
       "      <td>女</td>\n",
       "      <td>2020-02-05</td>\n",
       "      <td>2020-02-15</td>\n",
       "    </tr>\n",
       "  </tbody>\n",
       "</table>\n",
       "</div>"
      ],
      "text/plain": [
       "     p_num  age gender confirm_date  cure_date\n",
       "133    133    0      女   2020-02-03 2020-02-20\n",
       "198    198    0      女   2020-02-05 2020-02-15"
      ]
     },
     "execution_count": 19,
     "metadata": {},
     "output_type": "execute_result"
    }
   ],
   "source": [
    "df_cure_info[df_cure_info['age']==0]     #经查验，此二人确诊时年龄均不满1岁"
   ]
  },
  {
   "cell_type": "code",
   "execution_count": 20,
   "metadata": {},
   "outputs": [
    {
     "data": {
      "text/plain": [
       "0      27\n",
       "1      25\n",
       "2      25\n",
       "3      29\n",
       "4      25\n",
       "       ..\n",
       "310     8\n",
       "311     8\n",
       "312     6\n",
       "313     9\n",
       "314     9\n",
       "Length: 315, dtype: int64"
      ]
     },
     "execution_count": 20,
     "metadata": {},
     "output_type": "execute_result"
    }
   ],
   "source": [
    "(df_cure_info.cure_date-df_cure_info.confirm_date).dt.days     #此方法似乎时好时坏"
   ]
  },
  {
   "cell_type": "code",
   "execution_count": 21,
   "metadata": {},
   "outputs": [
    {
     "data": {
      "text/html": [
       "<div>\n",
       "<style scoped>\n",
       "    .dataframe tbody tr th:only-of-type {\n",
       "        vertical-align: middle;\n",
       "    }\n",
       "\n",
       "    .dataframe tbody tr th {\n",
       "        vertical-align: top;\n",
       "    }\n",
       "\n",
       "    .dataframe thead th {\n",
       "        text-align: right;\n",
       "    }\n",
       "</style>\n",
       "<table border=\"1\" class=\"dataframe\">\n",
       "  <thead>\n",
       "    <tr style=\"text-align: right;\">\n",
       "      <th></th>\n",
       "      <th>p_num</th>\n",
       "      <th>age</th>\n",
       "      <th>gender</th>\n",
       "      <th>confirm_date</th>\n",
       "      <th>cure_date</th>\n",
       "      <th>cure_during</th>\n",
       "    </tr>\n",
       "  </thead>\n",
       "  <tbody>\n",
       "    <tr>\n",
       "      <td>0</td>\n",
       "      <td>0</td>\n",
       "      <td>70</td>\n",
       "      <td>男</td>\n",
       "      <td>2020-02-13</td>\n",
       "      <td>2020-03-11</td>\n",
       "      <td>27</td>\n",
       "    </tr>\n",
       "    <tr>\n",
       "      <td>1</td>\n",
       "      <td>1</td>\n",
       "      <td>20</td>\n",
       "      <td>女</td>\n",
       "      <td>2020-02-14</td>\n",
       "      <td>2020-03-10</td>\n",
       "      <td>25</td>\n",
       "    </tr>\n",
       "    <tr>\n",
       "      <td>2</td>\n",
       "      <td>2</td>\n",
       "      <td>52</td>\n",
       "      <td>女</td>\n",
       "      <td>2020-02-14</td>\n",
       "      <td>2020-03-10</td>\n",
       "      <td>25</td>\n",
       "    </tr>\n",
       "    <tr>\n",
       "      <td>3</td>\n",
       "      <td>3</td>\n",
       "      <td>37</td>\n",
       "      <td>男</td>\n",
       "      <td>2020-02-10</td>\n",
       "      <td>2020-03-10</td>\n",
       "      <td>29</td>\n",
       "    </tr>\n",
       "    <tr>\n",
       "      <td>4</td>\n",
       "      <td>4</td>\n",
       "      <td>42</td>\n",
       "      <td>男</td>\n",
       "      <td>2020-02-14</td>\n",
       "      <td>2020-03-10</td>\n",
       "      <td>25</td>\n",
       "    </tr>\n",
       "    <tr>\n",
       "      <td>...</td>\n",
       "      <td>...</td>\n",
       "      <td>...</td>\n",
       "      <td>...</td>\n",
       "      <td>...</td>\n",
       "      <td>...</td>\n",
       "      <td>...</td>\n",
       "    </tr>\n",
       "    <tr>\n",
       "      <td>310</td>\n",
       "      <td>310</td>\n",
       "      <td>44</td>\n",
       "      <td>男</td>\n",
       "      <td>2020-01-23</td>\n",
       "      <td>2020-01-31</td>\n",
       "      <td>8</td>\n",
       "    </tr>\n",
       "    <tr>\n",
       "      <td>311</td>\n",
       "      <td>311</td>\n",
       "      <td>32</td>\n",
       "      <td>男</td>\n",
       "      <td>2020-01-21</td>\n",
       "      <td>2020-01-29</td>\n",
       "      <td>8</td>\n",
       "    </tr>\n",
       "    <tr>\n",
       "      <td>312</td>\n",
       "      <td>312</td>\n",
       "      <td>21</td>\n",
       "      <td>女</td>\n",
       "      <td>2020-01-22</td>\n",
       "      <td>2020-01-28</td>\n",
       "      <td>6</td>\n",
       "    </tr>\n",
       "    <tr>\n",
       "      <td>313</td>\n",
       "      <td>313</td>\n",
       "      <td>56</td>\n",
       "      <td>男</td>\n",
       "      <td>2020-01-18</td>\n",
       "      <td>2020-01-27</td>\n",
       "      <td>9</td>\n",
       "    </tr>\n",
       "    <tr>\n",
       "      <td>314</td>\n",
       "      <td>314</td>\n",
       "      <td>58</td>\n",
       "      <td>女</td>\n",
       "      <td>2020-01-18</td>\n",
       "      <td>2020-01-27</td>\n",
       "      <td>9</td>\n",
       "    </tr>\n",
       "  </tbody>\n",
       "</table>\n",
       "<p>315 rows × 6 columns</p>\n",
       "</div>"
      ],
      "text/plain": [
       "     p_num  age gender confirm_date  cure_date  cure_during\n",
       "0        0   70      男   2020-02-13 2020-03-11           27\n",
       "1        1   20      女   2020-02-14 2020-03-10           25\n",
       "2        2   52      女   2020-02-14 2020-03-10           25\n",
       "3        3   37      男   2020-02-10 2020-03-10           29\n",
       "4        4   42      男   2020-02-14 2020-03-10           25\n",
       "..     ...  ...    ...          ...        ...          ...\n",
       "310    310   44      男   2020-01-23 2020-01-31            8\n",
       "311    311   32      男   2020-01-21 2020-01-29            8\n",
       "312    312   21      女   2020-01-22 2020-01-28            6\n",
       "313    313   56      男   2020-01-18 2020-01-27            9\n",
       "314    314   58      女   2020-01-18 2020-01-27            9\n",
       "\n",
       "[315 rows x 6 columns]"
      ]
     },
     "execution_count": 21,
     "metadata": {},
     "output_type": "execute_result"
    }
   ],
   "source": [
    "df_cure_info['cure_during'] = df_cure_info.apply(lambda x:x.cure_date - x.confirm_date,axis=1).astype('timedelta64[D]').astype(int)\n",
    "df_cure_info"
   ]
  },
  {
   "cell_type": "code",
   "execution_count": 22,
   "metadata": {},
   "outputs": [
    {
     "data": {
      "image/png": "[encoded data removed]",
      "text/plain": [
       "<Figure size 432x288 with 1 Axes>"
      ]
     },
     "metadata": {},
     "output_type": "display_data"
    }
   ],
   "source": [
    "#样本男女比例\n",
    "df_cure_info.gender.value_counts()\n",
    "plt.pie(df_cure_info.gender.value_counts(),autopct='%1.1f%%',shadow=False,startangle=90,labels=['男','女'])     #autopct控制输出比例\n",
    "plt.title('治愈患者样本男女比例：')\n",
    "plt.rcParams['font.sans-serif']=['SimHei']     #用来正常显示中文标签\n",
    "plt.rcParams['axes.unicode_minus']=False     #用来正常显示负号\n",
    "plt.show()"
   ]
  },
  {
   "cell_type": "code",
   "execution_count": 23,
   "metadata": {
    "scrolled": true
   },
   "outputs": [
    {
     "name": "stderr",
     "output_type": "stream",
     "text": [
      "E:\\Anaconda3\\anaconda\\lib\\site-packages\\ipykernel_launcher.py:5: FutureWarning: `Series.plot()` should not be called with positional arguments, only keyword arguments. The order of positional arguments will change in the future. Use `Series.plot(kind='bar')` instead of `Series.plot('bar',)`.\n",
      "  \"\"\"\n"
     ]
    },
    {
     "data": {
      "text/plain": [
       "<matplotlib.axes._subplots.AxesSubplot at 0x1f2c34349b0>"
      ]
     },
     "execution_count": 23,
     "metadata": {},
     "output_type": "execute_result"
    },
    {
     "data": {
      "image/png": "[encoded data removed]",
      "text/plain": [
       "<Figure size 432x288 with 1 Axes>"
      ]
     },
     "metadata": {
      "needs_background": "light"
     },
     "output_type": "display_data"
    }
   ],
   "source": [
    "#治愈时长与性别无关\n",
    "cure_groupby_gender = df_cure_info.groupby('gender').cure_during.mean()\n",
    "plt.xlabel('年龄段')\n",
    "plt.ylabel('平均治愈时长')\n",
    "cure_groupby_gender.plot('bar')"
   ]
  },
  {
   "cell_type": "code",
   "execution_count": 24,
   "metadata": {},
   "outputs": [
    {
     "data": {
      "text/plain": [
       "count    315.000000\n",
       "mean      16.685714\n",
       "std        7.135603\n",
       "min        6.000000\n",
       "25%       12.000000\n",
       "50%       15.000000\n",
       "75%       21.000000\n",
       "max       38.000000\n",
       "Name: cure_during, dtype: float64"
      ]
     },
     "execution_count": 24,
     "metadata": {},
     "output_type": "execute_result"
    }
   ],
   "source": [
    "#治愈时长数据统计\n",
    "df_cure_info.cure_during.describe()"
   ]
  },
  {
   "cell_type": "code",
   "execution_count": 75,
   "metadata": {},
   "outputs": [
    {
     "name": "stdout",
     "output_type": "stream",
     "text": [
      "13    26\n",
      "12    23\n",
      "16    22\n",
      "10    21\n",
      "15    21\n",
      "Name: cure_during, dtype: int64\n",
      "治愈耗时对应人数排前五的分别为：['13天', '12天', '16天', '10天', '15天']，      占总人数的：35.9%\n"
     ]
    },
    {
     "data": {
      "image/png": "[encoded data removed]",
      "text/plain": [
       "<Figure size 432x288 with 1 Axes>"
      ]
     },
     "metadata": {},
     "output_type": "display_data"
    }
   ],
   "source": [
    "s_major_cure_during = df_cure_info.cure_during.value_counts().head(5)\n",
    "print(s_major_cure_during)\n",
    "plt.pie(s_major_cure_during,autopct=\"%1.2f%%\",startangle=0)\n",
    "print(f'治愈耗时对应人数排前五的分别为：{[(str(days) + \"天\") for days in list(s_major_cure_during.index)]}，\\\n",
    "      占总人数的：{round(s_major_cure_during.sum()/df_cure_info.cure_during.value_counts().sum(),3)*100}%')"
   ]
  },
  {
   "cell_type": "code",
   "execution_count": 76,
   "metadata": {},
   "outputs": [
    {
     "data": {
      "text/plain": [
       "<matplotlib.axes._subplots.AxesSubplot at 0x1f2c6414828>"
      ]
     },
     "execution_count": 76,
     "metadata": {},
     "output_type": "execute_result"
    },
    {
     "data": {
      "image/png": "[encoded data removed]",
      "text/plain": [
       "<Figure size 1152x576 with 1 Axes>"
      ]
     },
     "metadata": {
      "needs_background": "light"
     },
     "output_type": "display_data"
    }
   ],
   "source": [
    "#治愈时长与对应人数的分布\n",
    "se_cuduring = df_cure_info.cure_during.value_counts().sort_index()\n",
    "se_cuduring\n",
    "plt.figure(figsize=(16,8))\n",
    "plt.title('治愈时长人数分布')\n",
    "plt.xlabel('治愈时长（天）')\n",
    "plt.ylabel('人数（人）')\n",
    "se_cuduring.plot(kind='bar',stacked=True)"
   ]
  },
  {
   "cell_type": "code",
   "execution_count": 77,
   "metadata": {},
   "outputs": [],
   "source": [
    "# 区分年龄段\n",
    "def seperate_age(age):\n",
    "    if age >= 0 and age < 12:     #儿童\n",
    "        age_level = 0\n",
    "    elif age >= 12 and age < 18:     #少年\n",
    "        age_level = 1\n",
    "    elif age >= 18 and age < 25:     #青春\n",
    "        age_level = 2\n",
    "    elif age >= 25 and age < 35:     #后青春\n",
    "        age_level = 3\n",
    "    elif age >= 35 and age < 60:     #第二人生\n",
    "        age_level = 4\n",
    "    elif age >= 60 and age < 80:     #暮年\n",
    "        age_level = 5\n",
    "    else:     #长寿老年\n",
    "        age_level = 6\n",
    "    \n",
    "    return age_level"
   ]
  },
  {
   "cell_type": "code",
   "execution_count": 78,
   "metadata": {},
   "outputs": [
    {
     "data": {
      "text/html": [
       "<div>\n",
       "<style scoped>\n",
       "    .dataframe tbody tr th:only-of-type {\n",
       "        vertical-align: middle;\n",
       "    }\n",
       "\n",
       "    .dataframe tbody tr th {\n",
       "        vertical-align: top;\n",
       "    }\n",
       "\n",
       "    .dataframe thead th {\n",
       "        text-align: right;\n",
       "    }\n",
       "</style>\n",
       "<table border=\"1\" class=\"dataframe\">\n",
       "  <thead>\n",
       "    <tr style=\"text-align: right;\">\n",
       "      <th></th>\n",
       "      <th>p_num</th>\n",
       "      <th>age</th>\n",
       "      <th>gender</th>\n",
       "      <th>confirm_date</th>\n",
       "      <th>cure_date</th>\n",
       "      <th>cure_during</th>\n",
       "      <th>age_level</th>\n",
       "    </tr>\n",
       "  </thead>\n",
       "  <tbody>\n",
       "    <tr>\n",
       "      <td>0</td>\n",
       "      <td>0</td>\n",
       "      <td>70</td>\n",
       "      <td>男</td>\n",
       "      <td>2020-02-13</td>\n",
       "      <td>2020-03-11</td>\n",
       "      <td>27</td>\n",
       "      <td>5</td>\n",
       "    </tr>\n",
       "    <tr>\n",
       "      <td>1</td>\n",
       "      <td>1</td>\n",
       "      <td>20</td>\n",
       "      <td>女</td>\n",
       "      <td>2020-02-14</td>\n",
       "      <td>2020-03-10</td>\n",
       "      <td>25</td>\n",
       "      <td>2</td>\n",
       "    </tr>\n",
       "    <tr>\n",
       "      <td>2</td>\n",
       "      <td>2</td>\n",
       "      <td>52</td>\n",
       "      <td>女</td>\n",
       "      <td>2020-02-14</td>\n",
       "      <td>2020-03-10</td>\n",
       "      <td>25</td>\n",
       "      <td>4</td>\n",
       "    </tr>\n",
       "    <tr>\n",
       "      <td>3</td>\n",
       "      <td>3</td>\n",
       "      <td>37</td>\n",
       "      <td>男</td>\n",
       "      <td>2020-02-10</td>\n",
       "      <td>2020-03-10</td>\n",
       "      <td>29</td>\n",
       "      <td>4</td>\n",
       "    </tr>\n",
       "    <tr>\n",
       "      <td>4</td>\n",
       "      <td>4</td>\n",
       "      <td>42</td>\n",
       "      <td>男</td>\n",
       "      <td>2020-02-14</td>\n",
       "      <td>2020-03-10</td>\n",
       "      <td>25</td>\n",
       "      <td>4</td>\n",
       "    </tr>\n",
       "  </tbody>\n",
       "</table>\n",
       "</div>"
      ],
      "text/plain": [
       "   p_num  age gender confirm_date  cure_date  cure_during  age_level\n",
       "0      0   70      男   2020-02-13 2020-03-11           27          5\n",
       "1      1   20      女   2020-02-14 2020-03-10           25          2\n",
       "2      2   52      女   2020-02-14 2020-03-10           25          4\n",
       "3      3   37      男   2020-02-10 2020-03-10           29          4\n",
       "4      4   42      男   2020-02-14 2020-03-10           25          4"
      ]
     },
     "execution_count": 78,
     "metadata": {},
     "output_type": "execute_result"
    }
   ],
   "source": [
    "df_cure_info['age_level'] = df_cure_info['age'].apply(seperate_age)\n",
    "df_cure_info.head()"
   ]
  },
  {
   "cell_type": "code",
   "execution_count": 134,
   "metadata": {},
   "outputs": [
    {
     "data": {
      "text/plain": [
       "(array([  9.,   3.,  12.,  50., 141.,  96.,   4.]),\n",
       " array([0.        , 0.85714286, 1.71428571, 2.57142857, 3.42857143,\n",
       "        4.28571429, 5.14285714, 6.        ]),\n",
       " <a list of 7 Patch objects>)"
      ]
     },
     "execution_count": 134,
     "metadata": {},
     "output_type": "execute_result"
    },
    {
     "data": {
      "image/png": "[encoded data removed]",
      "text/plain": [
       "<Figure size 648x576 with 1 Axes>"
      ]
     },
     "metadata": {
      "needs_background": "light"
     },
     "output_type": "display_data"
    }
   ],
   "source": [
    "#年龄段分布\n",
    "plt.figure(figsize=(9,8))\n",
    "plt.xticks([0,1,2,3,4,5,6,7,8])\n",
    "plt.title('感染人群年龄段分布')\n",
    "plt.ylabel('治愈人数')\n",
    "plt.hist(x=df_cure_info.age_level,bins=7)"
   ]
  },
  {
   "cell_type": "code",
   "execution_count": 137,
   "metadata": {},
   "outputs": [
    {
     "name": "stderr",
     "output_type": "stream",
     "text": [
      "E:\\Anaconda3\\anaconda\\lib\\site-packages\\ipykernel_launcher.py:7: FutureWarning: `Series.plot()` should not be called with positional arguments, only keyword arguments. The order of positional arguments will change in the future. Use `Series.plot(kind='bar')` instead of `Series.plot('bar',)`.\n",
      "  import sys\n"
     ]
    },
    {
     "data": {
      "text/plain": [
       "<matplotlib.axes._subplots.AxesSubplot at 0x1f2c8b18f60>"
      ]
     },
     "execution_count": 137,
     "metadata": {},
     "output_type": "execute_result"
    },
    {
     "data": {
      "image/png": "[encoded data removed]",
      "text/plain": [
       "<Figure size 648x576 with 1 Axes>"
      ]
     },
     "metadata": {
      "needs_background": "light"
     },
     "output_type": "display_data"
    }
   ],
   "source": [
    "#年龄段与治愈时长的关系（无明显关联）\n",
    "plt.figure(figsize=(9,8))\n",
    "cure_groupby_ageLevel = df_cure_info.groupby('age_level').cure_during.mean()\n",
    "# plt.xlabel('年龄段')\n",
    "plt.ylabel('平均治愈时长')\n",
    "plt.xticks([0,1,2,3,4,5,6,7,8],['0岁','12岁','18岁','25岁','35岁','60岁','80岁','80岁以上'])\n",
    "cure_groupby_ageLevel.plot('bar')"
   ]
  },
  {
   "cell_type": "code",
   "execution_count": 139,
   "metadata": {},
   "outputs": [
    {
     "data": {
      "text/plain": [
       "<matplotlib.axes._subplots.AxesSubplot at 0x1f2c86700b8>"
      ]
     },
     "execution_count": 139,
     "metadata": {},
     "output_type": "execute_result"
    },
    {
     "data": {
      "image/png": "[encoded data removed]",
      "text/plain": [
       "<Figure size 1152x576 with 1 Axes>"
      ]
     },
     "metadata": {
      "needs_background": "light"
     },
     "output_type": "display_data"
    }
   ],
   "source": [
    "#随着出院日期后延，平均治愈时长相对加长？\n",
    "se_cureDuring_with_cureDate = df_cure_info.groupby(['cure_date']).cure_during.mean()\n",
    "plt.figure(figsize=(16,8))\n",
    "plt.title('平均治愈时长随出院时间变化')\n",
    "# plt.xlabel(\"治愈日期\")\n",
    "plt.ylabel('平均治愈时长')\n",
    "se_cureDuring_with_cureDate.plot()"
   ]
  },
  {
   "cell_type": "code",
   "execution_count": 140,
   "metadata": {},
   "outputs": [
    {
     "data": {
      "image/png": "[encoded data removed]",
      "text/plain": [
       "<Figure size 432x288 with 1 Axes>"
      ]
     },
     "metadata": {
      "needs_background": "light"
     },
     "output_type": "display_data"
    }
   ],
   "source": [
    "#治愈时长与确诊日期的关系（确诊日期越靠后，治愈时长越短？）\n",
    "#df_each_cure_during = df_cure_info['cure_date','cure_during']\n",
    "x = df_cure_info.cure_date\n",
    "y = df_cure_info.cure_during\n",
    "plt.scatter(x,y,color='red')\n",
    "plt.xticks(x,())\n",
    "plt.show()"
   ]
  },
  {
   "cell_type": "code",
   "execution_count": 142,
   "metadata": {},
   "outputs": [
    {
     "data": {
      "text/plain": [
       "<matplotlib.axes._subplots.AxesSubplot at 0x1f2caf72cc0>"
      ]
     },
     "execution_count": 142,
     "metadata": {},
     "output_type": "execute_result"
    },
    {
     "data": {
      "image/png": "[encoded data removed]",
      "text/plain": [
       "<Figure size 1152x360 with 1 Axes>"
      ]
     },
     "metadata": {
      "needs_background": "light"
     },
     "output_type": "display_data"
    }
   ],
   "source": [
    "#随着确诊日期后延，平均治愈时长相对缩短？\n",
    "se_cureDuring_with_confirmDate = df_cure_info.groupby(['confirm_date']).cure_during.mean()\n",
    "plt.figure(figsize=(16,5))\n",
    "# plt.xlabel(\"确诊日期\")\n",
    "plt.ylabel('平均治愈时长')\n",
    "se_cureDuring_with_confirmDate.plot()"
   ]
  },
  {
   "cell_type": "code",
   "execution_count": 143,
   "metadata": {},
   "outputs": [
    {
     "data": {
      "text/plain": [
       "<matplotlib.collections.PathCollection at 0x1f2ce191160>"
      ]
     },
     "execution_count": 143,
     "metadata": {},
     "output_type": "execute_result"
    },
    {
     "data": {
      "image/png": "[encoded data removed]",
      "text/plain": [
       "<Figure size 432x288 with 1 Axes>"
      ]
     },
     "metadata": {
      "needs_background": "light"
     },
     "output_type": "display_data"
    }
   ],
   "source": [
    "plt.scatter(df_cure_info.confirm_date,df_cure_info.cure_during,color='red')"
   ]
  },
  {
   "cell_type": "code",
   "execution_count": null,
   "metadata": {},
   "outputs": [],
   "source": []
  },
  {
   "cell_type": "code",
   "execution_count": null,
   "metadata": {},
   "outputs": [],
   "source": []
  },
  {
   "cell_type": "code",
   "execution_count": null,
   "metadata": {},
   "outputs": [],
   "source": []
  },
  {
   "cell_type": "code",
   "execution_count": null,
   "metadata": {},
   "outputs": [],
   "source": []
  },
  {
   "cell_type": "markdown",
   "metadata": {},
   "source": [
    "## Draft"
   ]
  },
  {
   "cell_type": "code",
   "execution_count": 10,
   "metadata": {},
   "outputs": [
    {
     "name": "stdout",
     "output_type": "stream",
     "text": [
      "[1, 6, 26, 31, 32, 33, 34]\n",
      "http://mp.weixin.qq.com/s?__biz=MjM5NTA5NzYyMA==&mid=2654126329&idx=2&sn=068aee7a5aab4cf7c9f7f19933195665&chksm=bd3bdd828a4c5494cb7cb9dff4bb84aa5f6d9374e996d2e10386259dbe3d330eb9b2a3ba5661#rd\n",
      "http://mp.weixin.qq.com/s?__biz=MjM5NTA5NzYyMA==&mid=2654125511&idx=1&sn=54b3b4334903032154543ea6e22a7b71&chksm=bd3ba0bc8a4c29aaac9d358b259d38bb125309789956c626b1cb72b8e7bb6bcc2f86f9937856#rd\n",
      "http://mp.weixin.qq.com/s?__biz=MjM5NTA5NzYyMA==&mid=2654122959&idx=2&sn=0b6b699922d86c0e59f878cc8ce4efec&chksm=bd3baeb48a4c27a2c76bafbe1a599827984ddd59267fec9a90a70617776716ce298f23d5a484#rd\n",
      "http://mp.weixin.qq.com/s?__biz=MjM5NTA5NzYyMA==&mid=2654122097&idx=1&sn=1e08183d9f4c0e420157de52e8f0ee11&chksm=bd3bad0a8a4c241c57eddbea51bc7ae9b49d7d9e0d7fd1f345955833465cf074dbb052a38411#rd\n",
      "http://mp.weixin.qq.com/s?__biz=MjM5NTA5NzYyMA==&mid=2654121840&idx=1&sn=a2630dd799478fa50ba03c10b15b577d&chksm=bd3bb20b8a4c3b1dcfb25863490b21417e44222c076f3fefa2d319fb8d968c94fbb680e5c7d6#rd\n",
      "http://mp.weixin.qq.com/s?__biz=MjM5NTA5NzYyMA==&mid=2654121688&idx=1&sn=e4fdae2a034ee3a7b92b366b44d6aea7&chksm=bd3bb3a38a4c3ab58d8ddd78c4f4b0b2cc9a0ca4c14d677b7ce68299bced943492666a4cb096#rd\n",
      "http://mp.weixin.qq.com/s?__biz=MjM5NTA5NzYyMA==&mid=2654121593&idx=1&sn=f4e85d9a254eecf440bcdbdc6d35ffb2&chksm=bd3bb3028a4c3a146867a5b3a8d4ff1e061fb438e3281c428cdff828efb7d18751b12700bc6e#rd\n"
     ]
    }
   ],
   "source": [
    "#单页数据采集调试\n",
    "index_list = []\n",
    "for i,cure_date in enumerate(real_cure_date_list):\n",
    "    if str(cure_date) in ['2020-01-27','2020-01-28','2020-01-29','2020-01-31','2020-02-07','2020-02-26','2020-03-02']:\n",
    "        index_list.append(i)\n",
    "    else:\n",
    "        continue\n",
    "print(index_list)\n",
    "for arti_index in index_list:\n",
    "    print(articleLink_list[arti_index])"
   ]
  },
  {
   "cell_type": "code",
   "execution_count": 44,
   "metadata": {},
   "outputs": [
    {
     "name": "stdout",
     "output_type": "stream",
     "text": [
      "tag类型：<class 'bs4.element.Tag'>\n",
      "It's useless!\n",
      "tag类型：<class 'bs4.element.Tag'>\n",
      "It's useless!\n",
      "tag类型：<class 'str'>\n",
      "begin collection\n",
      "tag类型：<class 'bs4.element.Tag'>\n",
      "It's useless!\n"
     ]
    }
   ],
   "source": [
    "browser = webdriver.Chrome('./chromedriver.exe')\n",
    "browser.get(\"http://mp.weixin.qq.com/s?__biz=MjM5NTA5NzYyMA==&mid=2654121840&idx=1&sn=a2630dd799478fa50ba03c10b15b577d&chksm=bd3bb20b8a4c3b1dcfb25863490b21417e44222c076f3fefa2d319fb8d968c94fbb680e5c7d6#rd\")\n",
    "text_29 = browser.page_source\n",
    "page_model_29 = bs(text_29,'lxml')\n",
    "node_29 = page_model_29.find('span',text=re.compile('卫*健*委今*')).parent.parent\n",
    "content_29 = node_29.find_all('p')\n",
    "#print(f\"所有的P:{content_29}\")\n",
    "for piece_29 in content_29:\n",
    "    #print(f'有无span？：{piece_29.find(\"span\")}')\n",
    "    tag_29 = piece_29.find('span')\n",
    "    if tag_29 == None:\n",
    "        tag_29 = piece_29.text\n",
    "    print(f\"tag类型：{type(tag_29)}\")\n",
    "    gender = \"\"\n",
    "    age = 0\n",
    "    if (type(tag_29) == None) or \\\n",
    "    (str(tag_29).find(\"确诊为\") == -1 and str(tag_29).find(\"确认为\") == -1) or\\\n",
    "    str(tag_29).find(\"死亡\") != -1:\n",
    "        print(\"It's useless!\" )\n",
    "        continue\n",
    "    else:\n",
    "        print('begin collection')"
   ]
  },
  {
   "cell_type": "code",
   "execution_count": 42,
   "metadata": {},
   "outputs": [
    {
     "data": {
      "text/plain": [
       "bs4.element.ResultSet"
      ]
     },
     "execution_count": 42,
     "metadata": {},
     "output_type": "execute_result"
    }
   ],
   "source": [
    "type(content_29)"
   ]
  },
  {
   "cell_type": "code",
   "execution_count": 68,
   "metadata": {},
   "outputs": [
    {
     "data": {
      "text/plain": [
       "datetime.datetime(2020, 1, 27, 0, 0)"
      ]
     },
     "execution_count": 68,
     "metadata": {},
     "output_type": "execute_result"
    }
   ],
   "source": [
    "earlist_cure_date = dateparse.parse('2020-01-27')\n",
    "earlist_cure_date"
   ]
  },
  {
   "cell_type": "code",
   "execution_count": 69,
   "metadata": {},
   "outputs": [
    {
     "name": "stdout",
     "output_type": "stream",
     "text": [
      "valid:True\n"
     ]
    }
   ],
   "source": [
    "publish_time = (datetime.fromtimestamp(1582252390))\n",
    "print(f\"valid:{publish_time > earlist_cure_date}\")"
   ]
  },
  {
   "cell_type": "code",
   "execution_count": 75,
   "metadata": {},
   "outputs": [
    {
     "data": {
      "text/plain": [
       "str"
      ]
     },
     "execution_count": 75,
     "metadata": {},
     "output_type": "execute_result"
    }
   ],
   "source": [
    "t1 = publish_time.strftime('%Y-%m-%d')\n",
    "type(t1)"
   ]
  },
  {
   "cell_type": "code",
   "execution_count": 14,
   "metadata": {},
   "outputs": [
    {
     "name": "stdout",
     "output_type": "stream",
     "text": [
      "<class 'dict'>\n"
     ]
    }
   ],
   "source": [
    "print(type(articleList_json))"
   ]
  },
  {
   "cell_type": "code",
   "execution_count": 66,
   "metadata": {},
   "outputs": [
    {
     "ename": "TypeError",
     "evalue": "'list' object is not callable",
     "output_type": "error",
     "traceback": [
      "\u001b[1;31m---------------------------------------------------------------------------\u001b[0m",
      "\u001b[1;31mTypeError\u001b[0m                                 Traceback (most recent call last)",
      "\u001b[1;32m<ipython-input-66-8fdc1da9822f>\u001b[0m in \u001b[0;36m<module>\u001b[1;34m\u001b[0m\n\u001b[0;32m      3\u001b[0m \u001b[0mplt\u001b[0m\u001b[1;33m.\u001b[0m\u001b[0mfigure\u001b[0m\u001b[1;33m(\u001b[0m\u001b[0mfigsize\u001b[0m\u001b[1;33m=\u001b[0m\u001b[1;33m(\u001b[0m\u001b[1;36m9\u001b[0m\u001b[1;33m,\u001b[0m\u001b[1;36m5\u001b[0m\u001b[1;33m)\u001b[0m\u001b[1;33m)\u001b[0m\u001b[1;33m\u001b[0m\u001b[1;33m\u001b[0m\u001b[0m\n\u001b[0;32m      4\u001b[0m \u001b[0mplt\u001b[0m\u001b[1;33m.\u001b[0m\u001b[0mtitle\u001b[0m\u001b[1;33m(\u001b[0m\u001b[1;34m'治愈时长人数分布'\u001b[0m\u001b[1;33m)\u001b[0m\u001b[1;33m\u001b[0m\u001b[1;33m\u001b[0m\u001b[0m\n\u001b[1;32m----> 5\u001b[1;33m \u001b[0mplt\u001b[0m\u001b[1;33m.\u001b[0m\u001b[0mxlabel\u001b[0m\u001b[1;33m(\u001b[0m\u001b[1;34m'治愈时长（天）'\u001b[0m\u001b[1;33m)\u001b[0m\u001b[1;33m\u001b[0m\u001b[1;33m\u001b[0m\u001b[0m\n\u001b[0m\u001b[0;32m      6\u001b[0m \u001b[0mplt\u001b[0m\u001b[1;33m.\u001b[0m\u001b[0mylabel\u001b[0m\u001b[1;33m(\u001b[0m\u001b[1;34m'人数（人）'\u001b[0m\u001b[1;33m)\u001b[0m\u001b[1;33m\u001b[0m\u001b[1;33m\u001b[0m\u001b[0m\n\u001b[0;32m      7\u001b[0m \u001b[0mse_cuduring\u001b[0m\u001b[1;33m.\u001b[0m\u001b[0mplot\u001b[0m\u001b[1;33m(\u001b[0m\u001b[0mkind\u001b[0m\u001b[1;33m=\u001b[0m\u001b[1;34m'bar'\u001b[0m\u001b[1;33m,\u001b[0m\u001b[0mstacked\u001b[0m\u001b[1;33m=\u001b[0m\u001b[1;32mTrue\u001b[0m\u001b[1;33m)\u001b[0m\u001b[1;33m\u001b[0m\u001b[1;33m\u001b[0m\u001b[0m\n",
      "\u001b[1;31mTypeError\u001b[0m: 'list' object is not callable"
     ]
    },
    {
     "data": {
      "image/png": "[encoded data removed]",
      "text/plain": [
       "<Figure size 648x360 with 1 Axes>"
      ]
     },
     "metadata": {
      "needs_background": "light"
     },
     "output_type": "display_data"
    }
   ],
   "source": [
    "se_cuduring = df_cure_info.cure_during.value_counts().sort_index()\n",
    "se_cuduring\n",
    "plt.figure(figsize=(9,5))\n",
    "plt.title('治愈时长人数分布')\n",
    "plt.xlabel('治愈时长（天）')\n",
    "plt.ylabel('人数（人）')\n",
    "se_cuduring.plot(kind='bar',stacked=True)"
   ]
  },
  {
   "cell_type": "code",
   "execution_count": 53,
   "metadata": {},
   "outputs": [
    {
     "data": {
      "text/plain": [
       "['13天', '12天', '16天', '10天', '15天']"
      ]
     },
     "execution_count": 53,
     "metadata": {},
     "output_type": "execute_result"
    }
   ],
   "source": [
    "[str(days) + '天' for days in list(s_major_cure_during.index)]"
   ]
  },
  {
   "cell_type": "code",
   "execution_count": 93,
   "metadata": {},
   "outputs": [
    {
     "data": {
      "text/plain": [
       "function"
      ]
     },
     "execution_count": 93,
     "metadata": {},
     "output_type": "execute_result"
    }
   ],
   "source": [
    "from matplotlib import pyplot as plt\n",
    "type(plt.xticks)"
   ]
  },
  {
   "cell_type": "code",
   "execution_count": 91,
   "metadata": {},
   "outputs": [
    {
     "data": {
      "text/plain": [
       "module"
      ]
     },
     "execution_count": 91,
     "metadata": {},
     "output_type": "execute_result"
    }
   ],
   "source": [
    "del plt.xlabel\n",
    "type(plt)"
   ]
  },
  {
   "cell_type": "code",
   "execution_count": null,
   "metadata": {},
   "outputs": [],
   "source": []
  }
 ],
 "metadata": {
  "kernelspec": {
   "display_name": "Python 3",
   "language": "python",
   "name": "python3"
  },
  "language_info": {
   "codemirror_mode": {
    "name": "ipython",
    "version": 3
   },
   "file_extension": ".py",
   "mimetype": "text/x-python",
   "name": "python",
   "nbconvert_exporter": "python",
   "pygments_lexer": "ipython3",
   "version": "3.7.3"
  }
 },
 "nbformat": 4,
 "nbformat_minor": 2
}
